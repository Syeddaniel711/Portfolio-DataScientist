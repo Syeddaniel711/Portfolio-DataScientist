{
 "cells": [
  {
   "cell_type": "code",
   "execution_count": 449,
   "id": "7204c1c7-a9c6-457f-8571-bc63c104bee2",
   "metadata": {},
   "outputs": [],
   "source": [
    "from selenium import webdriver # type: ignore\n",
    "from selenium.webdriver.chrome.service import Service\n",
    "from selenium.webdriver.chrome.options import Options\n",
    "from selenium.webdriver.common.by import By\n",
    "from webdriver_manager.chrome import ChromeDriverManager\n",
    "from bs4 import BeautifulSoup\n",
    "import re\n",
    "import pandas as pd\n",
    "import numpy as np"
   ]
  },
  {
   "cell_type": "code",
   "execution_count": 630,
   "id": "15236393-666e-4690-be28-a8821e32e427",
   "metadata": {},
   "outputs": [],
   "source": [
    "options = Options()\n",
    "options.add_experimental_option(\"detach\",True)\n",
    "driver = webdriver.Chrome(service=Service(ChromeDriverManager().install()),options=options)\n"
   ]
  },
  {
   "cell_type": "code",
   "execution_count": 632,
   "id": "c3539ac3-b988-4b3f-b235-d74a8b4b2ead",
   "metadata": {},
   "outputs": [],
   "source": [
    "# Navigate to the URL\n",
    "driver.get(\"https://www.agoda.com/search?city=14524&locale=en-us&ckuid=e7f4cf43-4845-4006-a349-b6d47e17e003&prid=0&currency=MYR&correlationId=fc841ccc-c0cd-4af9-80a4-a0e3946a1b19&analyticsSessionId=1316014179889239648&pageTypeId=103&realLanguageId=1&languageId=1&origin=MY&stateCode=14&cid=1844104&userId=e7f4cf43-4845-4006-a349-b6d47e17e003&whitelabelid=1&loginLvl=0&storefrontId=3&currencyId=4&currencyCode=MYR&htmlLanguage=en-us&cultureInfoName=en-us&machineName=sg-pc-6i-acm-web-user-667d9f8649-dgh9p&trafficGroupId=1&trafficSubGroupId=84&aid=130589&useFullPageLogin=true&cttp=4&isRealUser=true&mode=production&browserFamily=Chrome&cdnDomain=agoda.net&checkIn=2024-10-01&checkOut=2024-10-03&rooms=1&adults=1&children=1&childages=8&priceCur=MYR&los=2&textToSearch=Kuala+Lumpur&travellerType=2&familyMode=off&ds=lNhAcKYCZ5PNdgTW&productType=2\")\n"
   ]
  },
  {
   "cell_type": "code",
   "execution_count": 634,
   "id": "baec4f9d-2b1e-413e-baa1-b0fb66ccaeca",
   "metadata": {},
   "outputs": [
    {
     "name": "stderr",
     "output_type": "stream",
     "text": [
      "IOPub data rate exceeded.\n",
      "The Jupyter server will temporarily stop sending output\n",
      "to the client in order to avoid crashing it.\n",
      "To change this limit, set the config variable\n",
      "`--ServerApp.iopub_data_rate_limit`.\n",
      "\n",
      "Current values:\n",
      "ServerApp.iopub_data_rate_limit=1000000.0 (bytes/sec)\n",
      "ServerApp.rate_limit_window=3.0 (secs)\n",
      "\n"
     ]
    }
   ],
   "source": [
    "soup =BeautifulSoup(driver.page_source, \"html.parser\")\n",
    "print(soup)"
   ]
  },
  {
   "cell_type": "code",
   "execution_count": 636,
   "id": "e2431ad9-1f7b-4788-affd-a3832d1b3c2a",
   "metadata": {},
   "outputs": [
    {
     "data": {
      "text/plain": [
       "98"
      ]
     },
     "execution_count": 636,
     "metadata": {},
     "output_type": "execute_result"
    }
   ],
   "source": [
    "listings =soup.find_all(\"div\",class_=\"Gridstyled__GridStyled-sc-dfh2k0-0 kEJDDi PropertyCard__Container\")\n",
    "len(listings)\n"
   ]
  },
  {
   "cell_type": "code",
   "execution_count": 638,
   "id": "0f87d9a9-a8cc-4203-8a1d-af0b9ff1b6b4",
   "metadata": {
    "scrolled": true
   },
   "outputs": [
    {
     "name": "stdout",
     "output_type": "stream",
     "text": [
      "8.4Excellent1,325 reviews\n"
     ]
    }
   ],
   "source": [
    "card=listings[93]\n",
    "#Rating\n",
    "Rating=card.find(\"div\",class_=\"ReviewWithDemographic\").text.replace(\"\\n\",\"\")\n",
    "Rating_data = Rating.split(\" \")\n",
    "\n",
    "#Price\n",
    "Price=int(card.find(\"div\", class_=\"Box-sc-kv6pi1-0 fgWmJn\").text.replace(\"RM\", \"\").strip().replace(\"\\xa0\", \"\"))\n",
    "print(Rating)"
   ]
  },
  {
   "cell_type": "code",
   "execution_count": 640,
   "id": "e7c47f75-91a5-408f-9dc0-86f560b302dc",
   "metadata": {},
   "outputs": [
    {
     "data": {
      "text/plain": [
       "90"
      ]
     },
     "execution_count": 640,
     "metadata": {},
     "output_type": "execute_result"
    }
   ],
   "source": [
    "Place_box=soup.find_all(\"div\",class_=\"Itemstyled__Item-sc-12uga7p-0 ewNxOO PropertyCard__Section PropertyCard__Section--propertyInfo withPackageBundle\")\n",
    "len(Place_box)"
   ]
  },
  {
   "cell_type": "code",
   "execution_count": 642,
   "id": "9e140dd1-4b9d-4732-bd56-408d5a0dc007",
   "metadata": {},
   "outputs": [
    {
     "name": "stdout",
     "output_type": "stream",
     "text": [
      "Manatidur@THE HUB SS2\n"
     ]
    }
   ],
   "source": [
    "#Place Name\n",
    "Name=card.find(\"h3\").text.replace(\"\\n\",\"\")\n",
    "print(Name)\n"
   ]
  },
  {
   "cell_type": "code",
   "execution_count": 644,
   "id": "6dce3ab8-34ee-405b-8d7c-9e89cef42118",
   "metadata": {},
   "outputs": [
    {
     "data": {
      "text/plain": [
       "1"
      ]
     },
     "execution_count": 644,
     "metadata": {},
     "output_type": "execute_result"
    }
   ],
   "source": [
    "#Date , check in and check out\n",
    "Checkbox=soup.find(\"div\",class_=\"Searchbox Searchbox--horizontal\")\n",
    "len(Checkbox)"
   ]
  },
  {
   "cell_type": "code",
   "execution_count": 646,
   "id": "63f8df07-0336-426e-8f90-3094697f0d3d",
   "metadata": {},
   "outputs": [
    {
     "name": "stdout",
     "output_type": "stream",
     "text": [
      "Kuala Lumpur\n"
     ]
    }
   ],
   "source": [
    "#Place\n",
    "Place=Checkbox.find(\"div\",class_=\"SearchBoxTextDescription__title\").text.replace(\"\\n\",\"\")\n",
    "print(Place)"
   ]
  },
  {
   "cell_type": "code",
   "execution_count": 650,
   "id": "7fcd9c7f-1000-450d-b01d-79abb3606039",
   "metadata": {},
   "outputs": [
    {
     "name": "stdout",
     "output_type": "stream",
     "text": [
      "2024-10-01\n",
      "2024-10-03\n"
     ]
    }
   ],
   "source": [
    "#Check out and check In\n",
    "url=\"https://www.agoda.com/search?city=14524&locale=en-us&ckuid=e7f4cf43-4845-4006-a349-b6d47e17e003&prid=0&currency=MYR&correlationId=fc841ccc-c0cd-4af9-80a4-a0e3946a1b19&analyticsSessionId=1316014179889239648&pageTypeId=103&realLanguageId=1&languageId=1&origin=MY&stateCode=14&cid=1844104&userId=e7f4cf43-4845-4006-a349-b6d47e17e003&whitelabelid=1&loginLvl=0&storefrontId=3&currencyId=4&currencyCode=MYR&htmlLanguage=en-us&cultureInfoName=en-us&machineName=sg-pc-6i-acm-web-user-667d9f8649-dgh9p&trafficGroupId=1&trafficSubGroupId=84&aid=130589&useFullPageLogin=true&cttp=4&isRealUser=true&mode=production&browserFamily=Chrome&cdnDomain=agoda.net&checkIn=2024-10-01&checkOut=2024-10-03&rooms=1&adults=1&children=1&childages=8&priceCur=MYR&los=2&textToSearch=Kuala+Lumpur&travellerType=2&familyMode=off&ds=lNhAcKYCZ5PNdgTW&productType=2\"\n",
    "date_regex = r\"(\\d{4}-\\d{2}-\\d{2})\"\n",
    "Check_In = re. search(r\"checkIn=\" + date_regex, url).group(1)\n",
    "Check_Out = re. search(r\"checkOut=\" + date_regex, url).group(1)\n",
    "print(Check_In)\n",
    "print(Check_Out)"
   ]
  },
  {
   "cell_type": "code",
   "execution_count": 652,
   "id": "454f30c6-5d86-4eea-964f-d551fcd24d5c",
   "metadata": {},
   "outputs": [],
   "source": [
    "#Pax\n",
    "pax=Checkbox.find(\"div\",class_=\"SearchBoxTextDescription SearchBoxTextDescription--occupancy\").text.replace(\"\\n\",\"\")\n",
    "Pax=pax.replace(\"1 room\",\" \")\n"
   ]
  },
  {
   "cell_type": "code",
   "execution_count": 654,
   "id": "144e25fd-4ea7-4fdb-a53c-9e15fc4eea84",
   "metadata": {},
   "outputs": [],
   "source": [
    "def get_hotel_listings(card):\n",
    "    \n",
    "    #Name\n",
    "    Name=card.find(\"h3\").text.replace(\"\\n\",\"\") \n",
    "    #Price\n",
    "    price_element = card.find(\"div\", class_=\"Box-sc-kv6pi1-0 fgWmJn\")\n",
    "    Price = int(price_element.text.replace(\"RM\", \"\").strip().replace(\"\\xa0\", \"\")) if price_element else 0\n",
    "    #Rating\n",
    "    Rating=card.find(\"div\",class_=\"ReviewWithDemographic\").text.replace(\"\\n\",\"\")\n",
    "    hotel_listings = (Name,Price,Rating)\n",
    "    return hotel_listings\n",
    "    "
   ]
  },
  {
   "cell_type": "code",
   "execution_count": 676,
   "id": "1e20964c-ffbd-48f0-820c-0873de610266",
   "metadata": {},
   "outputs": [],
   "source": [
    "hotels = []\n",
    "listings =soup.find_all(\"div\",class_=\"Gridstyled__GridStyled-sc-dfh2k0-0 kEJDDi PropertyCard__Container\")\n",
    "\n",
    "for card in listings:\n",
    "    hotel_lists = get_hotel_listings(card)\n",
    "    if hotel_lists:\n",
    "        hotels.append(hotel_lists)"
   ]
  },
  {
   "cell_type": "code",
   "execution_count": 658,
   "id": "8079a52c-474c-4ceb-8695-52cd26488ce0",
   "metadata": {},
   "outputs": [
    {
     "name": "stdout",
     "output_type": "stream",
     "text": [
      "[('Sky Suites KLCC by Autumn Suites Premium Stay', 160, '7.6Very good3,696 reviews'), ('Soho suites KLCC by Homestay', 0, '7.8Very good234 reviews'), ('Swiss Garden Residence Kuala Lumpur', 112, '7.7Very good10,073 reviews'), ('Eaton Residences KLCC by Luna', 0, '8.7Excellent1,242 reviews'), ('Tropicana The Residence By Klcc', 365, '8.6Excellent1,249 reviews'), ('Regalia Residence @ KLCC View Sky Pool by KC', 78, '7.6Very good619 reviews'), ('Arte Mont Kiara By Awesomestay', 117, '7.2Very good1,000 reviews'), ('Expressionz Professional Suites  Wodages ', 110, '8.2Excellent5,041 reviews'), ('Greystone One Bukit Ceylon ', 94, '7.9Very good1,565 reviews'), ('Casa Residency Apartment', 73, '8.1Excellent1,305 reviews'), ('Yemala Suites @ Vortex KLCC', 238, '8.1Excellent1,136 reviews'), ('Alanis & Core Suite Klia By Dreamscape', 90, '8.0Excellent4,011 reviews'), ('Legasi Kampung Baru Guesthouse', 122, '8.7Excellent4,175 reviews'), ('Eaton Residence KLCC @ infinity Pool View', 0, '8.8Excellent99 reviews'), ('Ceylonz Suites nr Pavilion & KLCC by YourSuperhost', 123, '8.4Excellent411 reviews'), ('EkoCheras Cozy Suite by GUESTONIC', 108, '8.7Excellent842 reviews'), ('Sky Suites KLCC by Luna Suites', 161, '7.3Very good695 reviews'), ('Platinum KLCC by Luxury Suites', 0, '8.7Excellent102 reviews'), ('Ceylonz Suites by EdenZpace', 116, '8.5Excellent1,604 reviews'), ('Greystone Colony KLCC', 82, '7.9Very good1,786 reviews'), ('Times Square Service Apartment , Kuala Lumpur', 0, '8.7Excellent1,811 reviews'), ('The Perfect Getaway 2.0 @ Tamarind Suites 300mbps', 99, '9.1Exceptional825 reviews'), ('Chambers Premier Suites Kuala Lumpur', 111, '8.8Excellent4,506 reviews'), ('Nanas Dorsett 2+2pax Bukit Bintang Pavilion KL 68', 0, '9.0Exceptional155 reviews'), ('Expressionz Suites KLCC', 119, '8.1Excellent5,072 reviews'), ('The Robertson Bukit Bintang by San Eclipses', 169, '8.6Excellent2,660 reviews'), ('Dorsett Residence Bukit Bintang by De Space', 434, '8.7Excellent2,013 reviews'), ('The AXON @ Bukit Bintang, Kuala Lumpur', 148, '8.9Excellent969 reviews'), ('NO.8 Times Suites', 269, '8.5Excellent294 reviews'), ('The Establishment (EST) KL Sentral by Loop Suites', 126, '8.4Excellent1,017 reviews'), ('Chrisenbel Suites - Pinnacle PJ', 97, '8.6Excellent2,780 reviews'), ('Ginger8 @ Pinnacle PJ', 111, '9.0Exceptional2,722 reviews'), ('Infini Suites@ Scarletz Suites KLCC', 178, '8.4Excellent1,009 reviews'), ('The Axon Bukit Bintang Residence by De Space', 0, '8.6Excellent232 reviews'), ('Arte Cheras The Premium Suites by iLuxHome', 190, '8.9Excellent357 reviews'), ('Arte Plus Ampang By Awesomestay', 118, '6.8Good501 reviews'), (\"D'Majestic Place by Widebed\", 118, '7.8Very good2,403 reviews'), ('Alanis Suite With Netflix @ KLIA Sepang', 83, '8.0Excellent663 reviews'), ('Infini Suites@ Continew Residence KL', 120, '8.8Excellent1,490 reviews'), ('Bell Suite @ Sepang KLIA Kota Warisan', 85, '8.4Excellent1,028 reviews'), ('ARK Staycation Home', 37, '8.8Excellent112 reviews'), ('The Axon Suites Bukit Bintang ', 144, '8.3Excellent1,256 reviews'), ('Park View KLCC ,by DeLive Home', 117, '8.7Excellent594 reviews'), ('Sky Suites KLCC Kuala Lumpur', 318, '6.8Good524 reviews'), ('Arte Mont Kiara By The Relax Stay', 117, '7.9Very good642 reviews'), ('Neu Suites By Moonlight', 78, '8.3Excellent224 reviews'), ('The Platinum 2 Kuala Lumpur by LUMA', 363, '8.7Excellent5,864 reviews'), (\"AXON RESIDENCES BUKIT BINTANG by Janice's Homestay\", 156, '9.1Exceptional41 reviews'), ('Better Residence Suite at Times Square KL', 0, '7.6Very good1,319 reviews'), ('The Penthouse KLCC', 238, '7.6Very good1,694 reviews'), ('Scarletz Suites KLCC by De Harlequins Guesthouse', 90, '8.3Excellent376 reviews'), ('The Platinum KLCC By Sky Pool', 0, '8.2Excellent1,104 reviews'), ('Nanas Dorsett 6pax Bukit Bintang Pavilion KL 99', 0, '9.2Exceptional87 reviews'), ('Infini Suites@ The Robertson Bukit Bintang', 163, '8.6Excellent3,788 reviews'), ('Neu Suites @ 3rdNvenue by Perfect Host', 83, '7.9Very good920 reviews'), ('Centrestage Petaling Jaya by Perfect Host', 87, '7.9Very good4,993 reviews'), ('Cozy Tamarind Suites', 0, '7.9Very good935 reviews'), ('Soho Suites KLCC by the Betty Roux', 96, '7.8Very good845 reviews'), ('The Luxe KLCC View Sky Pool', 113, '7.6Very good218 reviews'), ('Studio 109 Regalia Suite KL', 83, '7.0Very good1,146 reviews'), ('Elements service suite@ Times Square', 0, '8.0Excellent134 reviews'), ('Star Luxury Suites KLCC', 0, '8.9Excellent1,835 reviews'), ('8 Kia Peng Suites KLCC by Luna', 0, '8.4Excellent631 reviews'), ('The Colony By Infinitum By Awesomestay', 108, '6.2Good280 reviews'), ('Casa Mutiara Apartments by Moonlight', 87, '8.3Excellent717 reviews'), ('Sanitized, Queensville near Midvalley #Netflix', 109, '8.8Excellent279 reviews'), ('Hotel Primera Suite', 0, '8.4Excellent5,300 reviews'), ('Arte Plus KLCC by Cobnb', 136, '8.2Excellent1,116 reviews'), ('Aurora Place Suites Kuala Lumpur Bukit Jalil by Rasa Sayang', 0, '7.5Very good496 reviews'), ('vortex suites klcc by homestay', 0, '8.0Excellent2,101 reviews'), ('Continew Residence Cozy Home by Guestonic', 106, '8.9Excellent117 reviews'), ('VELOCITY KL SUITES BY PSM', 153, '8.2Excellent736 reviews'), ('Zeta Desky', 0, '6.5Good659 reviews'), ('The Platinum Suites at KLCC by Veedu Hauz', 238, '8.8Excellent1,162 reviews'), ('One Bukit Ceylon Lumi 5 Pavillion Bukit Bintang  ', 109, '8.7Excellent1,206 reviews'), ('KLCC  Premium Queen bed  One Bukit Ceylon ', 101, '8.0Excellent356 reviews'), ('Greenfield Residence,  Sunway by The Comfort Zone', 189, '9.0Exceptional114 reviews'), ('KL Suite at Times Square', 241, '7.2Very good87 reviews'), ('Comfy Homes Unit PacificTowers Wifi Parking Netflix Opp Jaya 1', 86, '7.1Very good686 reviews'), ('Axon Bukit Bintang Pavillion KL KLCC by GoMain', 180, '8.0Excellent363 reviews'), (\"D'Majestic by Lush Living\", 87, '8.4Excellent1,164 reviews'), ('Crown Suites Tropicana The Residence KLCC Kuala Lumpur City Center', 0, '8.8Excellent2,423 reviews'), ('Nanas Dorsett 4pax Bukit Bintang Pavilion KL 610', 0, '9.2Exceptional127 reviews'), ('KL Gateway Residence', 0, '8.3Excellent266 reviews'), ('Vortex Suites KLCC by BlackNest', 229, '8.5Excellent1,328 reviews'), ('Minsu (Ekocheras)', 0, '7.7Very good1,338 reviews'), ('Regalia Residence The Sky Pool Suite', 129, '7.3Very good637 reviews'), ('Pavilion Embassy Suites KLCC', 274, '8.7Excellent2,922 reviews'), ('Horizon Suite Homestay, KLIA by S&T Homez', 121, '8.6Excellent292 reviews'), ('Reizz Homestay By Classy', 0, '8.6Excellent111 reviews'), ('De Centrum By Jom La Homestay, Kajang Bangi', 96, '8.5Excellent716 reviews'), ('Axon Premier Suites Kuala Lumpur', 281, '8.1Excellent826 reviews'), ('Rasa Sayang Homestay at Bukit Jalil Pavilion', 0, '7.3Very good381 reviews'), ('Manatidur@THE HUB SS2', 88, '8.4Excellent1,325 reviews'), ('Axon Serviced Suites Kuala Lumpur', 0, '8.2Excellent337 reviews'), ('Pacific Home Petaling Jaya @ The Curve, 1 Utama, Universiti Malaya', 0, '7.8Very good467 reviews'), ('Regalia Residence And Suites By Awesomestay', 108, '6.0Good99 reviews'), ('Crystal Suites at Axon Residence near Pavilion', 0, '8.7Excellent618 reviews')]\n"
     ]
    }
   ],
   "source": [
    "print(hotels)"
   ]
  },
  {
   "cell_type": "code",
   "execution_count": 674,
   "id": "ff3c5c2b-440e-403e-a235-1c1cf295760e",
   "metadata": {},
   "outputs": [
    {
     "name": "stdout",
     "output_type": "stream",
     "text": [
      "                      Pax    Check In   Check Out         Place    Web\n",
      "0   1 adult,1 child1 room  2024-10-01  2024-10-03  Kuala Lumpur  Agoda\n",
      "1   1 adult,1 child1 room  2024-10-01  2024-10-03  Kuala Lumpur  Agoda\n",
      "2   1 adult,1 child1 room  2024-10-01  2024-10-03  Kuala Lumpur  Agoda\n",
      "3   1 adult,1 child1 room  2024-10-01  2024-10-03  Kuala Lumpur  Agoda\n",
      "4   1 adult,1 child1 room  2024-10-01  2024-10-03  Kuala Lumpur  Agoda\n",
      "..                    ...         ...         ...           ...    ...\n",
      "93  1 adult,1 child1 room  2024-10-01  2024-10-03  Kuala Lumpur  Agoda\n",
      "94  1 adult,1 child1 room  2024-10-01  2024-10-03  Kuala Lumpur  Agoda\n",
      "95  1 adult,1 child1 room  2024-10-01  2024-10-03  Kuala Lumpur  Agoda\n",
      "96  1 adult,1 child1 room  2024-10-01  2024-10-03  Kuala Lumpur  Agoda\n",
      "97  1 adult,1 child1 room  2024-10-01  2024-10-03  Kuala Lumpur  Agoda\n",
      "\n",
      "[98 rows x 5 columns]\n"
     ]
    }
   ],
   "source": [
    "#Web\n",
    "Type=\"Agoda\"\n",
    "Duplicate_Data=[[pax,Check_In,Check_Out,Place,Type]]\n",
    "Dummy_Data=pd.DataFrame(Duplicate_Data,columns=[\"Pax\",\"Check In\",\"Check Out\",\"Place\",\"Web\"])\n",
    "new_Duplicate_Data = Dummy_Data.reindex(index=Dummy_Data.index.repeat(len(listings))).reset_index(drop=True)\n",
    "print(new_Duplicate_Data)"
   ]
  },
  {
   "cell_type": "code",
   "execution_count": 670,
   "id": "0d0dec06-5000-4dda-bd36-b4d671af7fb1",
   "metadata": {},
   "outputs": [],
   "source": [
    "def remove_duplicate(string):\n",
    "    new_string=string[:3]\n",
    "    return new_string"
   ]
  },
  {
   "cell_type": "code",
   "execution_count": 678,
   "id": "95fe645c-829c-4c15-b456-acf0d283b716",
   "metadata": {},
   "outputs": [
    {
     "name": "stdout",
     "output_type": "stream",
     "text": [
      "                                           Name Hotel  Price(Rm) Ratings\n",
      "0       Sky Suites KLCC by Autumn Suites Premium Stay        160     7.6\n",
      "1                        Soho suites KLCC by Homestay          0     7.8\n",
      "2                 Swiss Garden Residence Kuala Lumpur        112     7.7\n",
      "3                       Eaton Residences KLCC by Luna          0     8.7\n",
      "4                     Tropicana The Residence By Klcc        365     8.6\n",
      "..                                                ...        ...     ...\n",
      "93                              Manatidur@THE HUB SS2         88     8.4\n",
      "94                  Axon Serviced Suites Kuala Lumpur          0     8.2\n",
      "95  Pacific Home Petaling Jaya @ The Curve, 1 Utam...          0     7.8\n",
      "96        Regalia Residence And Suites By Awesomestay        108     6.0\n",
      "97     Crystal Suites at Axon Residence near Pavilion          0     8.7\n",
      "\n",
      "[98 rows x 3 columns]\n"
     ]
    }
   ],
   "source": [
    "Data=pd.DataFrame(hotels,columns=[\"Name Hotel\",\"Price(Rm)\",\"Ratings\"])\n",
    "Data[\"Ratings\"]=Data[\"Ratings\"].astype(str).apply(remove_duplicate)\n",
    "print(Data)"
   ]
  },
  {
   "cell_type": "code",
   "execution_count": 680,
   "id": "594c6857-9011-45ae-993b-95da37acee59",
   "metadata": {},
   "outputs": [
    {
     "data": {
      "text/html": [
       "<div>\n",
       "<style scoped>\n",
       "    .dataframe tbody tr th:only-of-type {\n",
       "        vertical-align: middle;\n",
       "    }\n",
       "\n",
       "    .dataframe tbody tr th {\n",
       "        vertical-align: top;\n",
       "    }\n",
       "\n",
       "    .dataframe thead th {\n",
       "        text-align: right;\n",
       "    }\n",
       "</style>\n",
       "<table border=\"1\" class=\"dataframe\">\n",
       "  <thead>\n",
       "    <tr style=\"text-align: right;\">\n",
       "      <th></th>\n",
       "      <th>Pax</th>\n",
       "      <th>Check In</th>\n",
       "      <th>Check Out</th>\n",
       "      <th>Place</th>\n",
       "      <th>Web</th>\n",
       "      <th>Name Hotel</th>\n",
       "      <th>Price(Rm)</th>\n",
       "      <th>Ratings</th>\n",
       "    </tr>\n",
       "  </thead>\n",
       "  <tbody>\n",
       "    <tr>\n",
       "      <th>0</th>\n",
       "      <td>1 adult,1 child1 room</td>\n",
       "      <td>2024-10-01</td>\n",
       "      <td>2024-10-03</td>\n",
       "      <td>Kuala Lumpur</td>\n",
       "      <td>Agoda</td>\n",
       "      <td>Sky Suites KLCC by Autumn Suites Premium Stay</td>\n",
       "      <td>160</td>\n",
       "      <td>7.6</td>\n",
       "    </tr>\n",
       "    <tr>\n",
       "      <th>1</th>\n",
       "      <td>1 adult,1 child1 room</td>\n",
       "      <td>2024-10-01</td>\n",
       "      <td>2024-10-03</td>\n",
       "      <td>Kuala Lumpur</td>\n",
       "      <td>Agoda</td>\n",
       "      <td>Soho suites KLCC by Homestay</td>\n",
       "      <td>0</td>\n",
       "      <td>7.8</td>\n",
       "    </tr>\n",
       "    <tr>\n",
       "      <th>2</th>\n",
       "      <td>1 adult,1 child1 room</td>\n",
       "      <td>2024-10-01</td>\n",
       "      <td>2024-10-03</td>\n",
       "      <td>Kuala Lumpur</td>\n",
       "      <td>Agoda</td>\n",
       "      <td>Swiss Garden Residence Kuala Lumpur</td>\n",
       "      <td>112</td>\n",
       "      <td>7.7</td>\n",
       "    </tr>\n",
       "    <tr>\n",
       "      <th>3</th>\n",
       "      <td>1 adult,1 child1 room</td>\n",
       "      <td>2024-10-01</td>\n",
       "      <td>2024-10-03</td>\n",
       "      <td>Kuala Lumpur</td>\n",
       "      <td>Agoda</td>\n",
       "      <td>Eaton Residences KLCC by Luna</td>\n",
       "      <td>0</td>\n",
       "      <td>8.7</td>\n",
       "    </tr>\n",
       "    <tr>\n",
       "      <th>4</th>\n",
       "      <td>1 adult,1 child1 room</td>\n",
       "      <td>2024-10-01</td>\n",
       "      <td>2024-10-03</td>\n",
       "      <td>Kuala Lumpur</td>\n",
       "      <td>Agoda</td>\n",
       "      <td>Tropicana The Residence By Klcc</td>\n",
       "      <td>365</td>\n",
       "      <td>8.6</td>\n",
       "    </tr>\n",
       "    <tr>\n",
       "      <th>...</th>\n",
       "      <td>...</td>\n",
       "      <td>...</td>\n",
       "      <td>...</td>\n",
       "      <td>...</td>\n",
       "      <td>...</td>\n",
       "      <td>...</td>\n",
       "      <td>...</td>\n",
       "      <td>...</td>\n",
       "    </tr>\n",
       "    <tr>\n",
       "      <th>93</th>\n",
       "      <td>1 adult,1 child1 room</td>\n",
       "      <td>2024-10-01</td>\n",
       "      <td>2024-10-03</td>\n",
       "      <td>Kuala Lumpur</td>\n",
       "      <td>Agoda</td>\n",
       "      <td>Manatidur@THE HUB SS2</td>\n",
       "      <td>88</td>\n",
       "      <td>8.4</td>\n",
       "    </tr>\n",
       "    <tr>\n",
       "      <th>94</th>\n",
       "      <td>1 adult,1 child1 room</td>\n",
       "      <td>2024-10-01</td>\n",
       "      <td>2024-10-03</td>\n",
       "      <td>Kuala Lumpur</td>\n",
       "      <td>Agoda</td>\n",
       "      <td>Axon Serviced Suites Kuala Lumpur</td>\n",
       "      <td>0</td>\n",
       "      <td>8.2</td>\n",
       "    </tr>\n",
       "    <tr>\n",
       "      <th>95</th>\n",
       "      <td>1 adult,1 child1 room</td>\n",
       "      <td>2024-10-01</td>\n",
       "      <td>2024-10-03</td>\n",
       "      <td>Kuala Lumpur</td>\n",
       "      <td>Agoda</td>\n",
       "      <td>Pacific Home Petaling Jaya @ The Curve, 1 Utam...</td>\n",
       "      <td>0</td>\n",
       "      <td>7.8</td>\n",
       "    </tr>\n",
       "    <tr>\n",
       "      <th>96</th>\n",
       "      <td>1 adult,1 child1 room</td>\n",
       "      <td>2024-10-01</td>\n",
       "      <td>2024-10-03</td>\n",
       "      <td>Kuala Lumpur</td>\n",
       "      <td>Agoda</td>\n",
       "      <td>Regalia Residence And Suites By Awesomestay</td>\n",
       "      <td>108</td>\n",
       "      <td>6.0</td>\n",
       "    </tr>\n",
       "    <tr>\n",
       "      <th>97</th>\n",
       "      <td>1 adult,1 child1 room</td>\n",
       "      <td>2024-10-01</td>\n",
       "      <td>2024-10-03</td>\n",
       "      <td>Kuala Lumpur</td>\n",
       "      <td>Agoda</td>\n",
       "      <td>Crystal Suites at Axon Residence near Pavilion</td>\n",
       "      <td>0</td>\n",
       "      <td>8.7</td>\n",
       "    </tr>\n",
       "  </tbody>\n",
       "</table>\n",
       "<p>98 rows × 8 columns</p>\n",
       "</div>"
      ],
      "text/plain": [
       "                      Pax    Check In   Check Out         Place    Web  \\\n",
       "0   1 adult,1 child1 room  2024-10-01  2024-10-03  Kuala Lumpur  Agoda   \n",
       "1   1 adult,1 child1 room  2024-10-01  2024-10-03  Kuala Lumpur  Agoda   \n",
       "2   1 adult,1 child1 room  2024-10-01  2024-10-03  Kuala Lumpur  Agoda   \n",
       "3   1 adult,1 child1 room  2024-10-01  2024-10-03  Kuala Lumpur  Agoda   \n",
       "4   1 adult,1 child1 room  2024-10-01  2024-10-03  Kuala Lumpur  Agoda   \n",
       "..                    ...         ...         ...           ...    ...   \n",
       "93  1 adult,1 child1 room  2024-10-01  2024-10-03  Kuala Lumpur  Agoda   \n",
       "94  1 adult,1 child1 room  2024-10-01  2024-10-03  Kuala Lumpur  Agoda   \n",
       "95  1 adult,1 child1 room  2024-10-01  2024-10-03  Kuala Lumpur  Agoda   \n",
       "96  1 adult,1 child1 room  2024-10-01  2024-10-03  Kuala Lumpur  Agoda   \n",
       "97  1 adult,1 child1 room  2024-10-01  2024-10-03  Kuala Lumpur  Agoda   \n",
       "\n",
       "                                           Name Hotel  Price(Rm) Ratings  \n",
       "0       Sky Suites KLCC by Autumn Suites Premium Stay        160     7.6  \n",
       "1                        Soho suites KLCC by Homestay          0     7.8  \n",
       "2                 Swiss Garden Residence Kuala Lumpur        112     7.7  \n",
       "3                       Eaton Residences KLCC by Luna          0     8.7  \n",
       "4                     Tropicana The Residence By Klcc        365     8.6  \n",
       "..                                                ...        ...     ...  \n",
       "93                              Manatidur@THE HUB SS2         88     8.4  \n",
       "94                  Axon Serviced Suites Kuala Lumpur          0     8.2  \n",
       "95  Pacific Home Petaling Jaya @ The Curve, 1 Utam...          0     7.8  \n",
       "96        Regalia Residence And Suites By Awesomestay        108     6.0  \n",
       "97     Crystal Suites at Axon Residence near Pavilion          0     8.7  \n",
       "\n",
       "[98 rows x 8 columns]"
      ]
     },
     "execution_count": 680,
     "metadata": {},
     "output_type": "execute_result"
    }
   ],
   "source": [
    "Final_Data =new_Duplicate_Data.join(Data)\n",
    "Final_Data"
   ]
  },
  {
   "cell_type": "code",
   "execution_count": 682,
   "id": "b8ff02ba-3950-4299-b459-ea1c5af098b1",
   "metadata": {},
   "outputs": [],
   "source": [
    "Final_Data.to_csv(f\"D:/WebScraping/Agoda_{Check_In}_{Check_Out}_{Place}.csv\",index=False)"
   ]
  },
  {
   "cell_type": "code",
   "execution_count": null,
   "id": "b64cb682-e229-40e9-b096-5022fb5b7ef9",
   "metadata": {},
   "outputs": [],
   "source": []
  }
 ],
 "metadata": {
  "kernelspec": {
   "display_name": "Python 3 (ipykernel)",
   "language": "python",
   "name": "python3"
  },
  "language_info": {
   "codemirror_mode": {
    "name": "ipython",
    "version": 3
   },
   "file_extension": ".py",
   "mimetype": "text/x-python",
   "name": "python",
   "nbconvert_exporter": "python",
   "pygments_lexer": "ipython3",
   "version": "3.12.4"
  }
 },
 "nbformat": 4,
 "nbformat_minor": 5
}

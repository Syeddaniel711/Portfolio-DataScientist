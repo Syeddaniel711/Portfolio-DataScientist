{
 "cells": [
  {
   "cell_type": "code",
   "execution_count": 1016,
   "id": "0c10c6ec-9762-47a8-a5e9-f8a76ad03d01",
   "metadata": {},
   "outputs": [
    {
     "name": "stderr",
     "output_type": "stream",
     "text": [
      "[nltk_data] Downloading package stopwords to\n",
      "[nltk_data]     C:\\Users\\syedd\\AppData\\Roaming\\nltk_data...\n",
      "[nltk_data]   Package stopwords is already up-to-date!\n",
      "[nltk_data] Downloading package punkt to\n",
      "[nltk_data]     C:\\Users\\syedd\\AppData\\Roaming\\nltk_data...\n",
      "[nltk_data]   Package punkt is already up-to-date!\n",
      "[nltk_data] Downloading package wordnet to\n",
      "[nltk_data]     C:\\Users\\syedd\\AppData\\Roaming\\nltk_data...\n",
      "[nltk_data]   Package wordnet is already up-to-date!\n"
     ]
    }
   ],
   "source": [
    "import pandas as pd\n",
    "import numpy as np\n",
    "from matplotlib import pyplot as plt\n",
    "import plotly.express as px\n",
    "import seaborn as sns\n",
    "from matplotlib import style\n",
    "import re\n",
    "import string\n",
    "import nltk\n",
    "nltk.download(\"stopwords\")\n",
    "nltk.download('punkt')\n",
    "nltk.download('wordnet')\n",
    "from nltk.corpus import stopwords\n",
    "from wordcloud import WordCloud"
   ]
  },
  {
   "cell_type": "code",
   "execution_count": 1017,
   "id": "18d12288-d4e9-4119-9a96-49932f337fa4",
   "metadata": {},
   "outputs": [],
   "source": [
    "#Extract Data\n",
    "Data_Agoda=pd.read_csv(\"D:/WebScraping/Agoda_2024-10-01_2024-10-03_Kuala Lumpur.csv\")\n",
    "Data_MHholidays=pd.read_csv(\"D:/WebScraping/MHHolidays_2024-10-01_2024-10-03_ Kuala Lumpur.csv\")\n",
    "Data_Expedia=pd.read_csv(\"D:/WebScraping/Expedia_2024-10-01_2024-10-03_Kuala Lumpur.csv\")\n",
    "Data = pd.concat([Data_Agoda, Data_MHholidays, Data_Expedia], ignore_index=True)\n"
   ]
  },
  {
   "cell_type": "code",
   "execution_count": 1018,
   "id": "75afbfd1-ede5-4e05-8ad1-e3d3ba7c4ba8",
   "metadata": {},
   "outputs": [
    {
     "data": {
      "text/plain": [
       "74"
      ]
     },
     "execution_count": 1018,
     "metadata": {},
     "output_type": "execute_result"
    }
   ],
   "source": [
    "len(Data_Agoda)\n",
    "len(Data_MHholidays)"
   ]
  },
  {
   "cell_type": "code",
   "execution_count": 1019,
   "id": "e8157d39-897b-48d4-8e22-0be3e45c8f86",
   "metadata": {},
   "outputs": [
    {
     "data": {
      "text/html": [
       "<div>\n",
       "<style scoped>\n",
       "    .dataframe tbody tr th:only-of-type {\n",
       "        vertical-align: middle;\n",
       "    }\n",
       "\n",
       "    .dataframe tbody tr th {\n",
       "        vertical-align: top;\n",
       "    }\n",
       "\n",
       "    .dataframe thead th {\n",
       "        text-align: right;\n",
       "    }\n",
       "</style>\n",
       "<table border=\"1\" class=\"dataframe\">\n",
       "  <thead>\n",
       "    <tr style=\"text-align: right;\">\n",
       "      <th></th>\n",
       "      <th>Pax</th>\n",
       "      <th>Check In</th>\n",
       "      <th>Check Out</th>\n",
       "      <th>Place</th>\n",
       "      <th>Web</th>\n",
       "      <th>Name Hotel</th>\n",
       "      <th>Price(Rm)</th>\n",
       "      <th>Ratings</th>\n",
       "    </tr>\n",
       "  </thead>\n",
       "  <tbody>\n",
       "    <tr>\n",
       "      <th>0</th>\n",
       "      <td>1 adult,1 child1 room</td>\n",
       "      <td>2024-10-01</td>\n",
       "      <td>2024-10-03</td>\n",
       "      <td>Kuala Lumpur</td>\n",
       "      <td>Agoda</td>\n",
       "      <td>Sky Suites KLCC by Autumn Suites Premium Stay</td>\n",
       "      <td>160.0</td>\n",
       "      <td>7.6</td>\n",
       "    </tr>\n",
       "    <tr>\n",
       "      <th>2</th>\n",
       "      <td>1 adult,1 child1 room</td>\n",
       "      <td>2024-10-01</td>\n",
       "      <td>2024-10-03</td>\n",
       "      <td>Kuala Lumpur</td>\n",
       "      <td>Agoda</td>\n",
       "      <td>Swiss Garden Residence Kuala Lumpur</td>\n",
       "      <td>112.0</td>\n",
       "      <td>7.7</td>\n",
       "    </tr>\n",
       "    <tr>\n",
       "      <th>4</th>\n",
       "      <td>1 adult,1 child1 room</td>\n",
       "      <td>2024-10-01</td>\n",
       "      <td>2024-10-03</td>\n",
       "      <td>Kuala Lumpur</td>\n",
       "      <td>Agoda</td>\n",
       "      <td>Tropicana The Residence By Klcc</td>\n",
       "      <td>365.0</td>\n",
       "      <td>8.6</td>\n",
       "    </tr>\n",
       "    <tr>\n",
       "      <th>5</th>\n",
       "      <td>1 adult,1 child1 room</td>\n",
       "      <td>2024-10-01</td>\n",
       "      <td>2024-10-03</td>\n",
       "      <td>Kuala Lumpur</td>\n",
       "      <td>Agoda</td>\n",
       "      <td>Regalia Residence @ KLCC View Sky Pool by KC</td>\n",
       "      <td>78.0</td>\n",
       "      <td>7.6</td>\n",
       "    </tr>\n",
       "    <tr>\n",
       "      <th>6</th>\n",
       "      <td>1 adult,1 child1 room</td>\n",
       "      <td>2024-10-01</td>\n",
       "      <td>2024-10-03</td>\n",
       "      <td>Kuala Lumpur</td>\n",
       "      <td>Agoda</td>\n",
       "      <td>Arte Mont Kiara By Awesomestay</td>\n",
       "      <td>117.0</td>\n",
       "      <td>7.2</td>\n",
       "    </tr>\n",
       "    <tr>\n",
       "      <th>...</th>\n",
       "      <td>...</td>\n",
       "      <td>...</td>\n",
       "      <td>...</td>\n",
       "      <td>...</td>\n",
       "      <td>...</td>\n",
       "      <td>...</td>\n",
       "      <td>...</td>\n",
       "      <td>...</td>\n",
       "    </tr>\n",
       "    <tr>\n",
       "      <th>217</th>\n",
       "      <td>2 travellers, 1 room</td>\n",
       "      <td>2024-10-01</td>\n",
       "      <td>2024-10-03</td>\n",
       "      <td>Kuala Lumpur</td>\n",
       "      <td>Expedia</td>\n",
       "      <td>InterContinental Kuala Lumpur, an IHG Hotel</td>\n",
       "      <td>32.0</td>\n",
       "      <td>9.0</td>\n",
       "    </tr>\n",
       "    <tr>\n",
       "      <th>218</th>\n",
       "      <td>2 travellers, 1 room</td>\n",
       "      <td>2024-10-01</td>\n",
       "      <td>2024-10-03</td>\n",
       "      <td>Kuala Lumpur</td>\n",
       "      <td>Expedia</td>\n",
       "      <td>Sunway Putra Hotel Kuala Lumpur</td>\n",
       "      <td>311.0</td>\n",
       "      <td>8.6</td>\n",
       "    </tr>\n",
       "    <tr>\n",
       "      <th>219</th>\n",
       "      <td>2 travellers, 1 room</td>\n",
       "      <td>2024-10-01</td>\n",
       "      <td>2024-10-03</td>\n",
       "      <td>Kuala Lumpur</td>\n",
       "      <td>Expedia</td>\n",
       "      <td>Dorsett Kuala Lumpur</td>\n",
       "      <td>360.0</td>\n",
       "      <td>8.0</td>\n",
       "    </tr>\n",
       "    <tr>\n",
       "      <th>220</th>\n",
       "      <td>2 travellers, 1 room</td>\n",
       "      <td>2024-10-01</td>\n",
       "      <td>2024-10-03</td>\n",
       "      <td>Kuala Lumpur</td>\n",
       "      <td>Expedia</td>\n",
       "      <td>Alila Bangsar, Kuala Lumpur</td>\n",
       "      <td>510.0</td>\n",
       "      <td>9.2</td>\n",
       "    </tr>\n",
       "    <tr>\n",
       "      <th>221</th>\n",
       "      <td>2 travellers, 1 room</td>\n",
       "      <td>2024-10-01</td>\n",
       "      <td>2024-10-03</td>\n",
       "      <td>Kuala Lumpur</td>\n",
       "      <td>Expedia</td>\n",
       "      <td>The Westin Kuala Lumpur</td>\n",
       "      <td>695.0</td>\n",
       "      <td>8.6</td>\n",
       "    </tr>\n",
       "  </tbody>\n",
       "</table>\n",
       "<p>195 rows × 8 columns</p>\n",
       "</div>"
      ],
      "text/plain": [
       "                       Pax    Check In   Check Out         Place      Web  \\\n",
       "0    1 adult,1 child1 room  2024-10-01  2024-10-03  Kuala Lumpur    Agoda   \n",
       "2    1 adult,1 child1 room  2024-10-01  2024-10-03  Kuala Lumpur    Agoda   \n",
       "4    1 adult,1 child1 room  2024-10-01  2024-10-03  Kuala Lumpur    Agoda   \n",
       "5    1 adult,1 child1 room  2024-10-01  2024-10-03  Kuala Lumpur    Agoda   \n",
       "6    1 adult,1 child1 room  2024-10-01  2024-10-03  Kuala Lumpur    Agoda   \n",
       "..                     ...         ...         ...           ...      ...   \n",
       "217   2 travellers, 1 room  2024-10-01  2024-10-03  Kuala Lumpur  Expedia   \n",
       "218   2 travellers, 1 room  2024-10-01  2024-10-03  Kuala Lumpur  Expedia   \n",
       "219   2 travellers, 1 room  2024-10-01  2024-10-03  Kuala Lumpur  Expedia   \n",
       "220   2 travellers, 1 room  2024-10-01  2024-10-03  Kuala Lumpur  Expedia   \n",
       "221   2 travellers, 1 room  2024-10-01  2024-10-03  Kuala Lumpur  Expedia   \n",
       "\n",
       "                                        Name Hotel  Price(Rm)  Ratings  \n",
       "0    Sky Suites KLCC by Autumn Suites Premium Stay      160.0      7.6  \n",
       "2              Swiss Garden Residence Kuala Lumpur      112.0      7.7  \n",
       "4                  Tropicana The Residence By Klcc      365.0      8.6  \n",
       "5     Regalia Residence @ KLCC View Sky Pool by KC       78.0      7.6  \n",
       "6                   Arte Mont Kiara By Awesomestay      117.0      7.2  \n",
       "..                                             ...        ...      ...  \n",
       "217    InterContinental Kuala Lumpur, an IHG Hotel       32.0      9.0  \n",
       "218                Sunway Putra Hotel Kuala Lumpur      311.0      8.6  \n",
       "219                           Dorsett Kuala Lumpur      360.0      8.0  \n",
       "220                    Alila Bangsar, Kuala Lumpur      510.0      9.2  \n",
       "221                        The Westin Kuala Lumpur      695.0      8.6  \n",
       "\n",
       "[195 rows x 8 columns]"
      ]
     },
     "execution_count": 1019,
     "metadata": {},
     "output_type": "execute_result"
    }
   ],
   "source": [
    "#Drop row if the value price is zero\n",
    "Clean_Data=Data.loc[(Data[\"Price(Rm)\"]!=0)]\n",
    "Clean_Data"
   ]
  },
  {
   "cell_type": "code",
   "execution_count": 1020,
   "id": "1eb3b5bd-2102-4392-8621-42076244eea0",
   "metadata": {},
   "outputs": [
    {
     "data": {
      "application/vnd.plotly.v1+json": {
       "config": {
        "plotlyServerURL": "https://plot.ly"
       },
       "data": [
        {
         "alignmentgroup": "True",
         "boxpoints": "all",
         "hovertemplate": "Web=%{x}<br>Price(Rm)=%{y}<extra></extra>",
         "legendgroup": "Agoda",
         "marker": {
          "color": "#636efa"
         },
         "name": "Agoda",
         "notched": false,
         "offsetgroup": "Agoda",
         "orientation": "v",
         "showlegend": true,
         "type": "box",
         "x": [
          "Agoda",
          "Agoda",
          "Agoda",
          "Agoda",
          "Agoda",
          "Agoda",
          "Agoda",
          "Agoda",
          "Agoda",
          "Agoda",
          "Agoda",
          "Agoda",
          "Agoda",
          "Agoda",
          "Agoda",
          "Agoda",
          "Agoda",
          "Agoda",
          "Agoda",
          "Agoda",
          "Agoda",
          "Agoda",
          "Agoda",
          "Agoda",
          "Agoda",
          "Agoda",
          "Agoda",
          "Agoda",
          "Agoda",
          "Agoda",
          "Agoda",
          "Agoda",
          "Agoda",
          "Agoda",
          "Agoda",
          "Agoda",
          "Agoda",
          "Agoda",
          "Agoda",
          "Agoda",
          "Agoda",
          "Agoda",
          "Agoda",
          "Agoda",
          "Agoda",
          "Agoda",
          "Agoda",
          "Agoda",
          "Agoda",
          "Agoda",
          "Agoda",
          "Agoda",
          "Agoda",
          "Agoda",
          "Agoda",
          "Agoda",
          "Agoda",
          "Agoda",
          "Agoda",
          "Agoda",
          "Agoda",
          "Agoda",
          "Agoda",
          "Agoda",
          "Agoda",
          "Agoda",
          "Agoda",
          "Agoda",
          "Agoda",
          "Agoda",
          "Agoda"
         ],
         "x0": " ",
         "xaxis": "x",
         "y": [
          160,
          112,
          365,
          78,
          117,
          110,
          94,
          73,
          238,
          90,
          122,
          123,
          108,
          161,
          116,
          82,
          99,
          111,
          119,
          169,
          434,
          148,
          269,
          126,
          97,
          111,
          178,
          190,
          118,
          118,
          83,
          120,
          85,
          37,
          144,
          117,
          318,
          117,
          78,
          363,
          156,
          238,
          90,
          163,
          83,
          87,
          96,
          113,
          83,
          108,
          87,
          109,
          136,
          106,
          153,
          238,
          109,
          101,
          189,
          241,
          86,
          180,
          87,
          229,
          129,
          274,
          121,
          96,
          281,
          88,
          108
         ],
         "y0": " ",
         "yaxis": "y"
        },
        {
         "alignmentgroup": "True",
         "boxpoints": "all",
         "hovertemplate": "Web=%{x}<br>Price(Rm)=%{y}<extra></extra>",
         "legendgroup": "MHHolidays",
         "marker": {
          "color": "#EF553B"
         },
         "name": "MHHolidays",
         "notched": false,
         "offsetgroup": "MHHolidays",
         "orientation": "v",
         "showlegend": true,
         "type": "box",
         "x": [
          "MHHolidays",
          "MHHolidays",
          "MHHolidays",
          "MHHolidays",
          "MHHolidays",
          "MHHolidays",
          "MHHolidays",
          "MHHolidays",
          "MHHolidays",
          "MHHolidays",
          "MHHolidays",
          "MHHolidays",
          "MHHolidays",
          "MHHolidays",
          "MHHolidays",
          "MHHolidays",
          "MHHolidays",
          "MHHolidays",
          "MHHolidays",
          "MHHolidays",
          "MHHolidays",
          "MHHolidays",
          "MHHolidays",
          "MHHolidays",
          "MHHolidays",
          "MHHolidays",
          "MHHolidays",
          "MHHolidays",
          "MHHolidays",
          "MHHolidays",
          "MHHolidays",
          "MHHolidays",
          "MHHolidays",
          "MHHolidays",
          "MHHolidays",
          "MHHolidays",
          "MHHolidays",
          "MHHolidays",
          "MHHolidays",
          "MHHolidays",
          "MHHolidays",
          "MHHolidays",
          "MHHolidays",
          "MHHolidays",
          "MHHolidays",
          "MHHolidays",
          "MHHolidays",
          "MHHolidays",
          "MHHolidays",
          "MHHolidays",
          "MHHolidays",
          "MHHolidays",
          "MHHolidays",
          "MHHolidays",
          "MHHolidays",
          "MHHolidays",
          "MHHolidays",
          "MHHolidays",
          "MHHolidays",
          "MHHolidays",
          "MHHolidays",
          "MHHolidays",
          "MHHolidays",
          "MHHolidays",
          "MHHolidays",
          "MHHolidays",
          "MHHolidays",
          "MHHolidays",
          "MHHolidays",
          "MHHolidays",
          "MHHolidays",
          "MHHolidays",
          "MHHolidays",
          "MHHolidays"
         ],
         "x0": " ",
         "xaxis": "x",
         "y": [
          491.09,
          308.79,
          230.335,
          276.915,
          307.74,
          511.125,
          712.135,
          1209.935,
          1452.29,
          386.91,
          410.405,
          583.275,
          824.045,
          387.725,
          659.17,
          448.74,
          309.365,
          318.33,
          214.145,
          331.17,
          438.595,
          244.485,
          338.495,
          516.795,
          649.88,
          325.055,
          440.52,
          269.07,
          287.675,
          296.485,
          302.98,
          307.84,
          322.555,
          346.595,
          374.085,
          388.22,
          392.71,
          403.7,
          407.285,
          409.33,
          410.025,
          435.145,
          457.43,
          503.915,
          536.59,
          551.055,
          556.205,
          584.87,
          592.06,
          652.81,
          697.925,
          712.8,
          716.41,
          850.54,
          855.515,
          941.83,
          976.745,
          978.98,
          1080,
          1390.255,
          1557.04,
          657.725,
          76.89,
          179.42,
          189.095,
          194.035,
          218.175,
          230.165,
          239.63,
          250.95,
          261.3,
          262.265,
          265.775,
          277.785
         ],
         "y0": " ",
         "yaxis": "y"
        },
        {
         "alignmentgroup": "True",
         "boxpoints": "all",
         "hovertemplate": "Web=%{x}<br>Price(Rm)=%{y}<extra></extra>",
         "legendgroup": "Expedia",
         "marker": {
          "color": "#00cc96"
         },
         "name": "Expedia",
         "notched": false,
         "offsetgroup": "Expedia",
         "orientation": "v",
         "showlegend": true,
         "type": "box",
         "x": [
          "Expedia",
          "Expedia",
          "Expedia",
          "Expedia",
          "Expedia",
          "Expedia",
          "Expedia",
          "Expedia",
          "Expedia",
          "Expedia",
          "Expedia",
          "Expedia",
          "Expedia",
          "Expedia",
          "Expedia",
          "Expedia",
          "Expedia",
          "Expedia",
          "Expedia",
          "Expedia",
          "Expedia",
          "Expedia",
          "Expedia",
          "Expedia",
          "Expedia",
          "Expedia",
          "Expedia",
          "Expedia",
          "Expedia",
          "Expedia",
          "Expedia",
          "Expedia",
          "Expedia",
          "Expedia",
          "Expedia",
          "Expedia",
          "Expedia",
          "Expedia",
          "Expedia",
          "Expedia",
          "Expedia",
          "Expedia",
          "Expedia",
          "Expedia",
          "Expedia",
          "Expedia",
          "Expedia",
          "Expedia",
          "Expedia",
          "Expedia"
         ],
         "x0": " ",
         "xaxis": "x",
         "y": [
          644,
          216,
          610,
          585,
          415,
          258,
          125,
          512,
          680,
          158,
          265,
          485,
          369,
          214,
          490,
          373,
          273,
          644,
          237,
          630,
          510,
          281,
          455,
          323,
          927,
          626,
          576,
          471,
          136,
          245,
          600,
          71,
          174,
          600,
          289,
          312,
          434,
          191,
          216,
          280,
          369,
          276,
          239,
          182,
          404,
          32,
          311,
          360,
          510,
          695
         ],
         "y0": " ",
         "yaxis": "y"
        }
       ],
       "layout": {
        "boxmode": "overlay",
        "font": {
         "color": "blue",
         "family": "Courier New"
        },
        "height": 600,
        "legend": {
         "title": {
          "font": {
           "color": "green"
          },
          "text": "Web"
         },
         "tracegroupgap": 0
        },
        "template": {
         "data": {
          "bar": [
           {
            "error_x": {
             "color": "#2a3f5f"
            },
            "error_y": {
             "color": "#2a3f5f"
            },
            "marker": {
             "line": {
              "color": "#E5ECF6",
              "width": 0.5
             },
             "pattern": {
              "fillmode": "overlay",
              "size": 10,
              "solidity": 0.2
             }
            },
            "type": "bar"
           }
          ],
          "barpolar": [
           {
            "marker": {
             "line": {
              "color": "#E5ECF6",
              "width": 0.5
             },
             "pattern": {
              "fillmode": "overlay",
              "size": 10,
              "solidity": 0.2
             }
            },
            "type": "barpolar"
           }
          ],
          "carpet": [
           {
            "aaxis": {
             "endlinecolor": "#2a3f5f",
             "gridcolor": "white",
             "linecolor": "white",
             "minorgridcolor": "white",
             "startlinecolor": "#2a3f5f"
            },
            "baxis": {
             "endlinecolor": "#2a3f5f",
             "gridcolor": "white",
             "linecolor": "white",
             "minorgridcolor": "white",
             "startlinecolor": "#2a3f5f"
            },
            "type": "carpet"
           }
          ],
          "choropleth": [
           {
            "colorbar": {
             "outlinewidth": 0,
             "ticks": ""
            },
            "type": "choropleth"
           }
          ],
          "contour": [
           {
            "colorbar": {
             "outlinewidth": 0,
             "ticks": ""
            },
            "colorscale": [
             [
              0,
              "#0d0887"
             ],
             [
              0.1111111111111111,
              "#46039f"
             ],
             [
              0.2222222222222222,
              "#7201a8"
             ],
             [
              0.3333333333333333,
              "#9c179e"
             ],
             [
              0.4444444444444444,
              "#bd3786"
             ],
             [
              0.5555555555555556,
              "#d8576b"
             ],
             [
              0.6666666666666666,
              "#ed7953"
             ],
             [
              0.7777777777777778,
              "#fb9f3a"
             ],
             [
              0.8888888888888888,
              "#fdca26"
             ],
             [
              1,
              "#f0f921"
             ]
            ],
            "type": "contour"
           }
          ],
          "contourcarpet": [
           {
            "colorbar": {
             "outlinewidth": 0,
             "ticks": ""
            },
            "type": "contourcarpet"
           }
          ],
          "heatmap": [
           {
            "colorbar": {
             "outlinewidth": 0,
             "ticks": ""
            },
            "colorscale": [
             [
              0,
              "#0d0887"
             ],
             [
              0.1111111111111111,
              "#46039f"
             ],
             [
              0.2222222222222222,
              "#7201a8"
             ],
             [
              0.3333333333333333,
              "#9c179e"
             ],
             [
              0.4444444444444444,
              "#bd3786"
             ],
             [
              0.5555555555555556,
              "#d8576b"
             ],
             [
              0.6666666666666666,
              "#ed7953"
             ],
             [
              0.7777777777777778,
              "#fb9f3a"
             ],
             [
              0.8888888888888888,
              "#fdca26"
             ],
             [
              1,
              "#f0f921"
             ]
            ],
            "type": "heatmap"
           }
          ],
          "heatmapgl": [
           {
            "colorbar": {
             "outlinewidth": 0,
             "ticks": ""
            },
            "colorscale": [
             [
              0,
              "#0d0887"
             ],
             [
              0.1111111111111111,
              "#46039f"
             ],
             [
              0.2222222222222222,
              "#7201a8"
             ],
             [
              0.3333333333333333,
              "#9c179e"
             ],
             [
              0.4444444444444444,
              "#bd3786"
             ],
             [
              0.5555555555555556,
              "#d8576b"
             ],
             [
              0.6666666666666666,
              "#ed7953"
             ],
             [
              0.7777777777777778,
              "#fb9f3a"
             ],
             [
              0.8888888888888888,
              "#fdca26"
             ],
             [
              1,
              "#f0f921"
             ]
            ],
            "type": "heatmapgl"
           }
          ],
          "histogram": [
           {
            "marker": {
             "pattern": {
              "fillmode": "overlay",
              "size": 10,
              "solidity": 0.2
             }
            },
            "type": "histogram"
           }
          ],
          "histogram2d": [
           {
            "colorbar": {
             "outlinewidth": 0,
             "ticks": ""
            },
            "colorscale": [
             [
              0,
              "#0d0887"
             ],
             [
              0.1111111111111111,
              "#46039f"
             ],
             [
              0.2222222222222222,
              "#7201a8"
             ],
             [
              0.3333333333333333,
              "#9c179e"
             ],
             [
              0.4444444444444444,
              "#bd3786"
             ],
             [
              0.5555555555555556,
              "#d8576b"
             ],
             [
              0.6666666666666666,
              "#ed7953"
             ],
             [
              0.7777777777777778,
              "#fb9f3a"
             ],
             [
              0.8888888888888888,
              "#fdca26"
             ],
             [
              1,
              "#f0f921"
             ]
            ],
            "type": "histogram2d"
           }
          ],
          "histogram2dcontour": [
           {
            "colorbar": {
             "outlinewidth": 0,
             "ticks": ""
            },
            "colorscale": [
             [
              0,
              "#0d0887"
             ],
             [
              0.1111111111111111,
              "#46039f"
             ],
             [
              0.2222222222222222,
              "#7201a8"
             ],
             [
              0.3333333333333333,
              "#9c179e"
             ],
             [
              0.4444444444444444,
              "#bd3786"
             ],
             [
              0.5555555555555556,
              "#d8576b"
             ],
             [
              0.6666666666666666,
              "#ed7953"
             ],
             [
              0.7777777777777778,
              "#fb9f3a"
             ],
             [
              0.8888888888888888,
              "#fdca26"
             ],
             [
              1,
              "#f0f921"
             ]
            ],
            "type": "histogram2dcontour"
           }
          ],
          "mesh3d": [
           {
            "colorbar": {
             "outlinewidth": 0,
             "ticks": ""
            },
            "type": "mesh3d"
           }
          ],
          "parcoords": [
           {
            "line": {
             "colorbar": {
              "outlinewidth": 0,
              "ticks": ""
             }
            },
            "type": "parcoords"
           }
          ],
          "pie": [
           {
            "automargin": true,
            "type": "pie"
           }
          ],
          "scatter": [
           {
            "fillpattern": {
             "fillmode": "overlay",
             "size": 10,
             "solidity": 0.2
            },
            "type": "scatter"
           }
          ],
          "scatter3d": [
           {
            "line": {
             "colorbar": {
              "outlinewidth": 0,
              "ticks": ""
             }
            },
            "marker": {
             "colorbar": {
              "outlinewidth": 0,
              "ticks": ""
             }
            },
            "type": "scatter3d"
           }
          ],
          "scattercarpet": [
           {
            "marker": {
             "colorbar": {
              "outlinewidth": 0,
              "ticks": ""
             }
            },
            "type": "scattercarpet"
           }
          ],
          "scattergeo": [
           {
            "marker": {
             "colorbar": {
              "outlinewidth": 0,
              "ticks": ""
             }
            },
            "type": "scattergeo"
           }
          ],
          "scattergl": [
           {
            "marker": {
             "colorbar": {
              "outlinewidth": 0,
              "ticks": ""
             }
            },
            "type": "scattergl"
           }
          ],
          "scattermapbox": [
           {
            "marker": {
             "colorbar": {
              "outlinewidth": 0,
              "ticks": ""
             }
            },
            "type": "scattermapbox"
           }
          ],
          "scatterpolar": [
           {
            "marker": {
             "colorbar": {
              "outlinewidth": 0,
              "ticks": ""
             }
            },
            "type": "scatterpolar"
           }
          ],
          "scatterpolargl": [
           {
            "marker": {
             "colorbar": {
              "outlinewidth": 0,
              "ticks": ""
             }
            },
            "type": "scatterpolargl"
           }
          ],
          "scatterternary": [
           {
            "marker": {
             "colorbar": {
              "outlinewidth": 0,
              "ticks": ""
             }
            },
            "type": "scatterternary"
           }
          ],
          "surface": [
           {
            "colorbar": {
             "outlinewidth": 0,
             "ticks": ""
            },
            "colorscale": [
             [
              0,
              "#0d0887"
             ],
             [
              0.1111111111111111,
              "#46039f"
             ],
             [
              0.2222222222222222,
              "#7201a8"
             ],
             [
              0.3333333333333333,
              "#9c179e"
             ],
             [
              0.4444444444444444,
              "#bd3786"
             ],
             [
              0.5555555555555556,
              "#d8576b"
             ],
             [
              0.6666666666666666,
              "#ed7953"
             ],
             [
              0.7777777777777778,
              "#fb9f3a"
             ],
             [
              0.8888888888888888,
              "#fdca26"
             ],
             [
              1,
              "#f0f921"
             ]
            ],
            "type": "surface"
           }
          ],
          "table": [
           {
            "cells": {
             "fill": {
              "color": "#EBF0F8"
             },
             "line": {
              "color": "white"
             }
            },
            "header": {
             "fill": {
              "color": "#C8D4E3"
             },
             "line": {
              "color": "white"
             }
            },
            "type": "table"
           }
          ]
         },
         "layout": {
          "annotationdefaults": {
           "arrowcolor": "#2a3f5f",
           "arrowhead": 0,
           "arrowwidth": 1
          },
          "autotypenumbers": "strict",
          "coloraxis": {
           "colorbar": {
            "outlinewidth": 0,
            "ticks": ""
           }
          },
          "colorscale": {
           "diverging": [
            [
             0,
             "#8e0152"
            ],
            [
             0.1,
             "#c51b7d"
            ],
            [
             0.2,
             "#de77ae"
            ],
            [
             0.3,
             "#f1b6da"
            ],
            [
             0.4,
             "#fde0ef"
            ],
            [
             0.5,
             "#f7f7f7"
            ],
            [
             0.6,
             "#e6f5d0"
            ],
            [
             0.7,
             "#b8e186"
            ],
            [
             0.8,
             "#7fbc41"
            ],
            [
             0.9,
             "#4d9221"
            ],
            [
             1,
             "#276419"
            ]
           ],
           "sequential": [
            [
             0,
             "#0d0887"
            ],
            [
             0.1111111111111111,
             "#46039f"
            ],
            [
             0.2222222222222222,
             "#7201a8"
            ],
            [
             0.3333333333333333,
             "#9c179e"
            ],
            [
             0.4444444444444444,
             "#bd3786"
            ],
            [
             0.5555555555555556,
             "#d8576b"
            ],
            [
             0.6666666666666666,
             "#ed7953"
            ],
            [
             0.7777777777777778,
             "#fb9f3a"
            ],
            [
             0.8888888888888888,
             "#fdca26"
            ],
            [
             1,
             "#f0f921"
            ]
           ],
           "sequentialminus": [
            [
             0,
             "#0d0887"
            ],
            [
             0.1111111111111111,
             "#46039f"
            ],
            [
             0.2222222222222222,
             "#7201a8"
            ],
            [
             0.3333333333333333,
             "#9c179e"
            ],
            [
             0.4444444444444444,
             "#bd3786"
            ],
            [
             0.5555555555555556,
             "#d8576b"
            ],
            [
             0.6666666666666666,
             "#ed7953"
            ],
            [
             0.7777777777777778,
             "#fb9f3a"
            ],
            [
             0.8888888888888888,
             "#fdca26"
            ],
            [
             1,
             "#f0f921"
            ]
           ]
          },
          "colorway": [
           "#636efa",
           "#EF553B",
           "#00cc96",
           "#ab63fa",
           "#FFA15A",
           "#19d3f3",
           "#FF6692",
           "#B6E880",
           "#FF97FF",
           "#FECB52"
          ],
          "font": {
           "color": "#2a3f5f"
          },
          "geo": {
           "bgcolor": "white",
           "lakecolor": "white",
           "landcolor": "#E5ECF6",
           "showlakes": true,
           "showland": true,
           "subunitcolor": "white"
          },
          "hoverlabel": {
           "align": "left"
          },
          "hovermode": "closest",
          "mapbox": {
           "style": "light"
          },
          "paper_bgcolor": "white",
          "plot_bgcolor": "#E5ECF6",
          "polar": {
           "angularaxis": {
            "gridcolor": "white",
            "linecolor": "white",
            "ticks": ""
           },
           "bgcolor": "#E5ECF6",
           "radialaxis": {
            "gridcolor": "white",
            "linecolor": "white",
            "ticks": ""
           }
          },
          "scene": {
           "xaxis": {
            "backgroundcolor": "#E5ECF6",
            "gridcolor": "white",
            "gridwidth": 2,
            "linecolor": "white",
            "showbackground": true,
            "ticks": "",
            "zerolinecolor": "white"
           },
           "yaxis": {
            "backgroundcolor": "#E5ECF6",
            "gridcolor": "white",
            "gridwidth": 2,
            "linecolor": "white",
            "showbackground": true,
            "ticks": "",
            "zerolinecolor": "white"
           },
           "zaxis": {
            "backgroundcolor": "#E5ECF6",
            "gridcolor": "white",
            "gridwidth": 2,
            "linecolor": "white",
            "showbackground": true,
            "ticks": "",
            "zerolinecolor": "white"
           }
          },
          "shapedefaults": {
           "line": {
            "color": "#2a3f5f"
           }
          },
          "ternary": {
           "aaxis": {
            "gridcolor": "white",
            "linecolor": "white",
            "ticks": ""
           },
           "baxis": {
            "gridcolor": "white",
            "linecolor": "white",
            "ticks": ""
           },
           "bgcolor": "#E5ECF6",
           "caxis": {
            "gridcolor": "white",
            "linecolor": "white",
            "ticks": ""
           }
          },
          "title": {
           "x": 0.05
          },
          "xaxis": {
           "automargin": true,
           "gridcolor": "white",
           "linecolor": "white",
           "ticks": "",
           "title": {
            "standoff": 15
           },
           "zerolinecolor": "white",
           "zerolinewidth": 2
          },
          "yaxis": {
           "automargin": true,
           "gridcolor": "white",
           "linecolor": "white",
           "ticks": "",
           "title": {
            "standoff": 15
           },
           "zerolinecolor": "white",
           "zerolinewidth": 2
          }
         }
        },
        "title": {
         "font": {
          "color": "red",
          "family": "Times New Roman"
         },
         "text": "Best Hotel Deals: First Page Finds"
        },
        "width": 800,
        "xaxis": {
         "anchor": "y",
         "autorange": true,
         "categoryarray": [
          "Agoda",
          "MHHolidays",
          "Expedia"
         ],
         "categoryorder": "array",
         "domain": [
          0,
          1
         ],
         "range": [
          -0.5156794425087108,
          2.5
         ],
         "tickangle": 45,
         "title": {
          "text": "Web"
         },
         "type": "category"
        },
        "yaxis": {
         "anchor": "x",
         "autorange": true,
         "domain": [
          0,
          1
         ],
         "range": [
          -52.724444444444444,
          1641.7644444444445
         ],
         "title": {
          "text": "Price(Rm)"
         },
         "type": "linear"
        }
       }
      },
      "image/png": "[encoded data removed]",
      "text/html": [
       "<div>                            <div id=\"d3168757-4d7c-48f5-968d-4a5c96ea2d2e\" class=\"plotly-graph-div\" style=\"height:600px; width:800px;\"></div>            <script type=\"text/javascript\">                require([\"plotly\"], function(Plotly) {                    window.PLOTLYENV=window.PLOTLYENV || {};                                    if (document.getElementById(\"d3168757-4d7c-48f5-968d-4a5c96ea2d2e\")) {                    Plotly.newPlot(                        \"d3168757-4d7c-48f5-968d-4a5c96ea2d2e\",                        [{\"alignmentgroup\":\"True\",\"boxpoints\":\"all\",\"hovertemplate\":\"Web=%{x}\\u003cbr\\u003ePrice(Rm)=%{y}\\u003cextra\\u003e\\u003c\\u002fextra\\u003e\",\"legendgroup\":\"Agoda\",\"marker\":{\"color\":\"#636efa\"},\"name\":\"Agoda\",\"notched\":false,\"offsetgroup\":\"Agoda\",\"orientation\":\"v\",\"showlegend\":true,\"x\":[\"Agoda\",\"Agoda\",\"Agoda\",\"Agoda\",\"Agoda\",\"Agoda\",\"Agoda\",\"Agoda\",\"Agoda\",\"Agoda\",\"Agoda\",\"Agoda\",\"Agoda\",\"Agoda\",\"Agoda\",\"Agoda\",\"Agoda\",\"Agoda\",\"Agoda\",\"Agoda\",\"Agoda\",\"Agoda\",\"Agoda\",\"Agoda\",\"Agoda\",\"Agoda\",\"Agoda\",\"Agoda\",\"Agoda\",\"Agoda\",\"Agoda\",\"Agoda\",\"Agoda\",\"Agoda\",\"Agoda\",\"Agoda\",\"Agoda\",\"Agoda\",\"Agoda\",\"Agoda\",\"Agoda\",\"Agoda\",\"Agoda\",\"Agoda\",\"Agoda\",\"Agoda\",\"Agoda\",\"Agoda\",\"Agoda\",\"Agoda\",\"Agoda\",\"Agoda\",\"Agoda\",\"Agoda\",\"Agoda\",\"Agoda\",\"Agoda\",\"Agoda\",\"Agoda\",\"Agoda\",\"Agoda\",\"Agoda\",\"Agoda\",\"Agoda\",\"Agoda\",\"Agoda\",\"Agoda\",\"Agoda\",\"Agoda\",\"Agoda\",\"Agoda\"],\"x0\":\" \",\"xaxis\":\"x\",\"y\":[160.0,112.0,365.0,78.0,117.0,110.0,94.0,73.0,238.0,90.0,122.0,123.0,108.0,161.0,116.0,82.0,99.0,111.0,119.0,169.0,434.0,148.0,269.0,126.0,97.0,111.0,178.0,190.0,118.0,118.0,83.0,120.0,85.0,37.0,144.0,117.0,318.0,117.0,78.0,363.0,156.0,238.0,90.0,163.0,83.0,87.0,96.0,113.0,83.0,108.0,87.0,109.0,136.0,106.0,153.0,238.0,109.0,101.0,189.0,241.0,86.0,180.0,87.0,229.0,129.0,274.0,121.0,96.0,281.0,88.0,108.0],\"y0\":\" \",\"yaxis\":\"y\",\"type\":\"box\"},{\"alignmentgroup\":\"True\",\"boxpoints\":\"all\",\"hovertemplate\":\"Web=%{x}\\u003cbr\\u003ePrice(Rm)=%{y}\\u003cextra\\u003e\\u003c\\u002fextra\\u003e\",\"legendgroup\":\"MHHolidays\",\"marker\":{\"color\":\"#EF553B\"},\"name\":\"MHHolidays\",\"notched\":false,\"offsetgroup\":\"MHHolidays\",\"orientation\":\"v\",\"showlegend\":true,\"x\":[\"MHHolidays\",\"MHHolidays\",\"MHHolidays\",\"MHHolidays\",\"MHHolidays\",\"MHHolidays\",\"MHHolidays\",\"MHHolidays\",\"MHHolidays\",\"MHHolidays\",\"MHHolidays\",\"MHHolidays\",\"MHHolidays\",\"MHHolidays\",\"MHHolidays\",\"MHHolidays\",\"MHHolidays\",\"MHHolidays\",\"MHHolidays\",\"MHHolidays\",\"MHHolidays\",\"MHHolidays\",\"MHHolidays\",\"MHHolidays\",\"MHHolidays\",\"MHHolidays\",\"MHHolidays\",\"MHHolidays\",\"MHHolidays\",\"MHHolidays\",\"MHHolidays\",\"MHHolidays\",\"MHHolidays\",\"MHHolidays\",\"MHHolidays\",\"MHHolidays\",\"MHHolidays\",\"MHHolidays\",\"MHHolidays\",\"MHHolidays\",\"MHHolidays\",\"MHHolidays\",\"MHHolidays\",\"MHHolidays\",\"MHHolidays\",\"MHHolidays\",\"MHHolidays\",\"MHHolidays\",\"MHHolidays\",\"MHHolidays\",\"MHHolidays\",\"MHHolidays\",\"MHHolidays\",\"MHHolidays\",\"MHHolidays\",\"MHHolidays\",\"MHHolidays\",\"MHHolidays\",\"MHHolidays\",\"MHHolidays\",\"MHHolidays\",\"MHHolidays\",\"MHHolidays\",\"MHHolidays\",\"MHHolidays\",\"MHHolidays\",\"MHHolidays\",\"MHHolidays\",\"MHHolidays\",\"MHHolidays\",\"MHHolidays\",\"MHHolidays\",\"MHHolidays\",\"MHHolidays\"],\"x0\":\" \",\"xaxis\":\"x\",\"y\":[491.09,308.79,230.335,276.915,307.74,511.125,712.135,1209.935,1452.29,386.91,410.405,583.275,824.045,387.725,659.17,448.74,309.365,318.33,214.145,331.17,438.595,244.485,338.495,516.795,649.88,325.055,440.52,269.07,287.675,296.485,302.98,307.84,322.555,346.595,374.085,388.22,392.71,403.7,407.285,409.33,410.025,435.145,457.43,503.915,536.59,551.055,556.205,584.87,592.06,652.81,697.925,712.8,716.41,850.54,855.515,941.83,976.745,978.98,1080.0,1390.255,1557.04,657.725,76.89,179.42,189.095,194.035,218.175,230.165,239.63,250.95,261.3,262.265,265.775,277.785],\"y0\":\" \",\"yaxis\":\"y\",\"type\":\"box\"},{\"alignmentgroup\":\"True\",\"boxpoints\":\"all\",\"hovertemplate\":\"Web=%{x}\\u003cbr\\u003ePrice(Rm)=%{y}\\u003cextra\\u003e\\u003c\\u002fextra\\u003e\",\"legendgroup\":\"Expedia\",\"marker\":{\"color\":\"#00cc96\"},\"name\":\"Expedia\",\"notched\":false,\"offsetgroup\":\"Expedia\",\"orientation\":\"v\",\"showlegend\":true,\"x\":[\"Expedia\",\"Expedia\",\"Expedia\",\"Expedia\",\"Expedia\",\"Expedia\",\"Expedia\",\"Expedia\",\"Expedia\",\"Expedia\",\"Expedia\",\"Expedia\",\"Expedia\",\"Expedia\",\"Expedia\",\"Expedia\",\"Expedia\",\"Expedia\",\"Expedia\",\"Expedia\",\"Expedia\",\"Expedia\",\"Expedia\",\"Expedia\",\"Expedia\",\"Expedia\",\"Expedia\",\"Expedia\",\"Expedia\",\"Expedia\",\"Expedia\",\"Expedia\",\"Expedia\",\"Expedia\",\"Expedia\",\"Expedia\",\"Expedia\",\"Expedia\",\"Expedia\",\"Expedia\",\"Expedia\",\"Expedia\",\"Expedia\",\"Expedia\",\"Expedia\",\"Expedia\",\"Expedia\",\"Expedia\",\"Expedia\",\"Expedia\"],\"x0\":\" \",\"xaxis\":\"x\",\"y\":[644.0,216.0,610.0,585.0,415.0,258.0,125.0,512.0,680.0,158.0,265.0,485.0,369.0,214.0,490.0,373.0,273.0,644.0,237.0,630.0,510.0,281.0,455.0,323.0,927.0,626.0,576.0,471.0,136.0,245.0,600.0,71.0,174.0,600.0,289.0,312.0,434.0,191.0,216.0,280.0,369.0,276.0,239.0,182.0,404.0,32.0,311.0,360.0,510.0,695.0],\"y0\":\" \",\"yaxis\":\"y\",\"type\":\"box\"}],                        {\"template\":{\"data\":{\"histogram2dcontour\":[{\"type\":\"histogram2dcontour\",\"colorbar\":{\"outlinewidth\":0,\"ticks\":\"\"},\"colorscale\":[[0.0,\"#0d0887\"],[0.1111111111111111,\"#46039f\"],[0.2222222222222222,\"#7201a8\"],[0.3333333333333333,\"#9c179e\"],[0.4444444444444444,\"#bd3786\"],[0.5555555555555556,\"#d8576b\"],[0.6666666666666666,\"#ed7953\"],[0.7777777777777778,\"#fb9f3a\"],[0.8888888888888888,\"#fdca26\"],[1.0,\"#f0f921\"]]}],\"choropleth\":[{\"type\":\"choropleth\",\"colorbar\":{\"outlinewidth\":0,\"ticks\":\"\"}}],\"histogram2d\":[{\"type\":\"histogram2d\",\"colorbar\":{\"outlinewidth\":0,\"ticks\":\"\"},\"colorscale\":[[0.0,\"#0d0887\"],[0.1111111111111111,\"#46039f\"],[0.2222222222222222,\"#7201a8\"],[0.3333333333333333,\"#9c179e\"],[0.4444444444444444,\"#bd3786\"],[0.5555555555555556,\"#d8576b\"],[0.6666666666666666,\"#ed7953\"],[0.7777777777777778,\"#fb9f3a\"],[0.8888888888888888,\"#fdca26\"],[1.0,\"#f0f921\"]]}],\"heatmap\":[{\"type\":\"heatmap\",\"colorbar\":{\"outlinewidth\":0,\"ticks\":\"\"},\"colorscale\":[[0.0,\"#0d0887\"],[0.1111111111111111,\"#46039f\"],[0.2222222222222222,\"#7201a8\"],[0.3333333333333333,\"#9c179e\"],[0.4444444444444444,\"#bd3786\"],[0.5555555555555556,\"#d8576b\"],[0.6666666666666666,\"#ed7953\"],[0.7777777777777778,\"#fb9f3a\"],[0.8888888888888888,\"#fdca26\"],[1.0,\"#f0f921\"]]}],\"heatmapgl\":[{\"type\":\"heatmapgl\",\"colorbar\":{\"outlinewidth\":0,\"ticks\":\"\"},\"colorscale\":[[0.0,\"#0d0887\"],[0.1111111111111111,\"#46039f\"],[0.2222222222222222,\"#7201a8\"],[0.3333333333333333,\"#9c179e\"],[0.4444444444444444,\"#bd3786\"],[0.5555555555555556,\"#d8576b\"],[0.6666666666666666,\"#ed7953\"],[0.7777777777777778,\"#fb9f3a\"],[0.8888888888888888,\"#fdca26\"],[1.0,\"#f0f921\"]]}],\"contourcarpet\":[{\"type\":\"contourcarpet\",\"colorbar\":{\"outlinewidth\":0,\"ticks\":\"\"}}],\"contour\":[{\"type\":\"contour\",\"colorbar\":{\"outlinewidth\":0,\"ticks\":\"\"},\"colorscale\":[[0.0,\"#0d0887\"],[0.1111111111111111,\"#46039f\"],[0.2222222222222222,\"#7201a8\"],[0.3333333333333333,\"#9c179e\"],[0.4444444444444444,\"#bd3786\"],[0.5555555555555556,\"#d8576b\"],[0.6666666666666666,\"#ed7953\"],[0.7777777777777778,\"#fb9f3a\"],[0.8888888888888888,\"#fdca26\"],[1.0,\"#f0f921\"]]}],\"surface\":[{\"type\":\"surface\",\"colorbar\":{\"outlinewidth\":0,\"ticks\":\"\"},\"colorscale\":[[0.0,\"#0d0887\"],[0.1111111111111111,\"#46039f\"],[0.2222222222222222,\"#7201a8\"],[0.3333333333333333,\"#9c179e\"],[0.4444444444444444,\"#bd3786\"],[0.5555555555555556,\"#d8576b\"],[0.6666666666666666,\"#ed7953\"],[0.7777777777777778,\"#fb9f3a\"],[0.8888888888888888,\"#fdca26\"],[1.0,\"#f0f921\"]]}],\"mesh3d\":[{\"type\":\"mesh3d\",\"colorbar\":{\"outlinewidth\":0,\"ticks\":\"\"}}],\"scatter\":[{\"fillpattern\":{\"fillmode\":\"overlay\",\"size\":10,\"solidity\":0.2},\"type\":\"scatter\"}],\"parcoords\":[{\"type\":\"parcoords\",\"line\":{\"colorbar\":{\"outlinewidth\":0,\"ticks\":\"\"}}}],\"scatterpolargl\":[{\"type\":\"scatterpolargl\",\"marker\":{\"colorbar\":{\"outlinewidth\":0,\"ticks\":\"\"}}}],\"bar\":[{\"error_x\":{\"color\":\"#2a3f5f\"},\"error_y\":{\"color\":\"#2a3f5f\"},\"marker\":{\"line\":{\"color\":\"#E5ECF6\",\"width\":0.5},\"pattern\":{\"fillmode\":\"overlay\",\"size\":10,\"solidity\":0.2}},\"type\":\"bar\"}],\"scattergeo\":[{\"type\":\"scattergeo\",\"marker\":{\"colorbar\":{\"outlinewidth\":0,\"ticks\":\"\"}}}],\"scatterpolar\":[{\"type\":\"scatterpolar\",\"marker\":{\"colorbar\":{\"outlinewidth\":0,\"ticks\":\"\"}}}],\"histogram\":[{\"marker\":{\"pattern\":{\"fillmode\":\"overlay\",\"size\":10,\"solidity\":0.2}},\"type\":\"histogram\"}],\"scattergl\":[{\"type\":\"scattergl\",\"marker\":{\"colorbar\":{\"outlinewidth\":0,\"ticks\":\"\"}}}],\"scatter3d\":[{\"type\":\"scatter3d\",\"line\":{\"colorbar\":{\"outlinewidth\":0,\"ticks\":\"\"}},\"marker\":{\"colorbar\":{\"outlinewidth\":0,\"ticks\":\"\"}}}],\"scattermapbox\":[{\"type\":\"scattermapbox\",\"marker\":{\"colorbar\":{\"outlinewidth\":0,\"ticks\":\"\"}}}],\"scatterternary\":[{\"type\":\"scatterternary\",\"marker\":{\"colorbar\":{\"outlinewidth\":0,\"ticks\":\"\"}}}],\"scattercarpet\":[{\"type\":\"scattercarpet\",\"marker\":{\"colorbar\":{\"outlinewidth\":0,\"ticks\":\"\"}}}],\"carpet\":[{\"aaxis\":{\"endlinecolor\":\"#2a3f5f\",\"gridcolor\":\"white\",\"linecolor\":\"white\",\"minorgridcolor\":\"white\",\"startlinecolor\":\"#2a3f5f\"},\"baxis\":{\"endlinecolor\":\"#2a3f5f\",\"gridcolor\":\"white\",\"linecolor\":\"white\",\"minorgridcolor\":\"white\",\"startlinecolor\":\"#2a3f5f\"},\"type\":\"carpet\"}],\"table\":[{\"cells\":{\"fill\":{\"color\":\"#EBF0F8\"},\"line\":{\"color\":\"white\"}},\"header\":{\"fill\":{\"color\":\"#C8D4E3\"},\"line\":{\"color\":\"white\"}},\"type\":\"table\"}],\"barpolar\":[{\"marker\":{\"line\":{\"color\":\"#E5ECF6\",\"width\":0.5},\"pattern\":{\"fillmode\":\"overlay\",\"size\":10,\"solidity\":0.2}},\"type\":\"barpolar\"}],\"pie\":[{\"automargin\":true,\"type\":\"pie\"}]},\"layout\":{\"autotypenumbers\":\"strict\",\"colorway\":[\"#636efa\",\"#EF553B\",\"#00cc96\",\"#ab63fa\",\"#FFA15A\",\"#19d3f3\",\"#FF6692\",\"#B6E880\",\"#FF97FF\",\"#FECB52\"],\"font\":{\"color\":\"#2a3f5f\"},\"hovermode\":\"closest\",\"hoverlabel\":{\"align\":\"left\"},\"paper_bgcolor\":\"white\",\"plot_bgcolor\":\"#E5ECF6\",\"polar\":{\"bgcolor\":\"#E5ECF6\",\"angularaxis\":{\"gridcolor\":\"white\",\"linecolor\":\"white\",\"ticks\":\"\"},\"radialaxis\":{\"gridcolor\":\"white\",\"linecolor\":\"white\",\"ticks\":\"\"}},\"ternary\":{\"bgcolor\":\"#E5ECF6\",\"aaxis\":{\"gridcolor\":\"white\",\"linecolor\":\"white\",\"ticks\":\"\"},\"baxis\":{\"gridcolor\":\"white\",\"linecolor\":\"white\",\"ticks\":\"\"},\"caxis\":{\"gridcolor\":\"white\",\"linecolor\":\"white\",\"ticks\":\"\"}},\"coloraxis\":{\"colorbar\":{\"outlinewidth\":0,\"ticks\":\"\"}},\"colorscale\":{\"sequential\":[[0.0,\"#0d0887\"],[0.1111111111111111,\"#46039f\"],[0.2222222222222222,\"#7201a8\"],[0.3333333333333333,\"#9c179e\"],[0.4444444444444444,\"#bd3786\"],[0.5555555555555556,\"#d8576b\"],[0.6666666666666666,\"#ed7953\"],[0.7777777777777778,\"#fb9f3a\"],[0.8888888888888888,\"#fdca26\"],[1.0,\"#f0f921\"]],\"sequentialminus\":[[0.0,\"#0d0887\"],[0.1111111111111111,\"#46039f\"],[0.2222222222222222,\"#7201a8\"],[0.3333333333333333,\"#9c179e\"],[0.4444444444444444,\"#bd3786\"],[0.5555555555555556,\"#d8576b\"],[0.6666666666666666,\"#ed7953\"],[0.7777777777777778,\"#fb9f3a\"],[0.8888888888888888,\"#fdca26\"],[1.0,\"#f0f921\"]],\"diverging\":[[0,\"#8e0152\"],[0.1,\"#c51b7d\"],[0.2,\"#de77ae\"],[0.3,\"#f1b6da\"],[0.4,\"#fde0ef\"],[0.5,\"#f7f7f7\"],[0.6,\"#e6f5d0\"],[0.7,\"#b8e186\"],[0.8,\"#7fbc41\"],[0.9,\"#4d9221\"],[1,\"#276419\"]]},\"xaxis\":{\"gridcolor\":\"white\",\"linecolor\":\"white\",\"ticks\":\"\",\"title\":{\"standoff\":15},\"zerolinecolor\":\"white\",\"automargin\":true,\"zerolinewidth\":2},\"yaxis\":{\"gridcolor\":\"white\",\"linecolor\":\"white\",\"ticks\":\"\",\"title\":{\"standoff\":15},\"zerolinecolor\":\"white\",\"automargin\":true,\"zerolinewidth\":2},\"scene\":{\"xaxis\":{\"backgroundcolor\":\"#E5ECF6\",\"gridcolor\":\"white\",\"linecolor\":\"white\",\"showbackground\":true,\"ticks\":\"\",\"zerolinecolor\":\"white\",\"gridwidth\":2},\"yaxis\":{\"backgroundcolor\":\"#E5ECF6\",\"gridcolor\":\"white\",\"linecolor\":\"white\",\"showbackground\":true,\"ticks\":\"\",\"zerolinecolor\":\"white\",\"gridwidth\":2},\"zaxis\":{\"backgroundcolor\":\"#E5ECF6\",\"gridcolor\":\"white\",\"linecolor\":\"white\",\"showbackground\":true,\"ticks\":\"\",\"zerolinecolor\":\"white\",\"gridwidth\":2}},\"shapedefaults\":{\"line\":{\"color\":\"#2a3f5f\"}},\"annotationdefaults\":{\"arrowcolor\":\"#2a3f5f\",\"arrowhead\":0,\"arrowwidth\":1},\"geo\":{\"bgcolor\":\"white\",\"landcolor\":\"#E5ECF6\",\"subunitcolor\":\"white\",\"showland\":true,\"showlakes\":true,\"lakecolor\":\"white\"},\"title\":{\"x\":0.05},\"mapbox\":{\"style\":\"light\"}}},\"xaxis\":{\"anchor\":\"y\",\"domain\":[0.0,1.0],\"title\":{\"text\":\"Web\"},\"categoryorder\":\"array\",\"categoryarray\":[\"Agoda\",\"MHHolidays\",\"Expedia\"],\"tickangle\":45},\"yaxis\":{\"anchor\":\"x\",\"domain\":[0.0,1.0],\"title\":{\"text\":\"Price(Rm)\"}},\"legend\":{\"title\":{\"text\":\"Web\",\"font\":{\"color\":\"green\"}},\"tracegroupgap\":0},\"title\":{\"text\":\"Best Hotel Deals: First Page Finds\",\"font\":{\"family\":\"Times New Roman\",\"color\":\"red\"}},\"boxmode\":\"overlay\",\"font\":{\"family\":\"Courier New\",\"color\":\"blue\"},\"width\":800,\"height\":600},                        {\"responsive\": true}                    ).then(function(){\n",
       "                            \n",
       "var gd = document.getElementById('d3168757-4d7c-48f5-968d-4a5c96ea2d2e');\n",
       "var x = new MutationObserver(function (mutations, observer) {{\n",
       "        var display = window.getComputedStyle(gd).display;\n",
       "        if (!display || display === 'none') {{\n",
       "            console.log([gd, 'removed!']);\n",
       "            Plotly.purge(gd);\n",
       "            observer.disconnect();\n",
       "        }}\n",
       "}});\n",
       "\n",
       "// Listen for the removal of the full notebook cells\n",
       "var notebookContainer = gd.closest('#notebook-container');\n",
       "if (notebookContainer) {{\n",
       "    x.observe(notebookContainer, {childList: true});\n",
       "}}\n",
       "\n",
       "// Listen for the clearing of the current output cell\n",
       "var outputEl = gd.closest('.output');\n",
       "if (outputEl) {{\n",
       "    x.observe(outputEl, {childList: true});\n",
       "}}\n",
       "\n",
       "                        })                };                });            </script>        </div>"
      ]
     },
     "metadata": {},
     "output_type": "display_data"
    }
   ],
   "source": [
    "fig=px.box(Clean_Data,y=\"Price(Rm)\",x=\"Web\",points=\"all\",color=\"Web\",title=\"Best Hotel Deals: First Page Finds\")\n",
    "fig.update_layout(xaxis={'tickangle': 45},\n",
    "                  font_family=\"Courier New\",\n",
    "                  font_color=\"blue\",\n",
    "                  title_font_family=\"Times New Roman\",\n",
    "                  title_font_color=\"red\",\n",
    "                  legend_title_font_color=\"green\",\n",
    "                  width=800, \n",
    "                  height=600)\n",
    "fig.show()"
   ]
  },
  {
   "cell_type": "markdown",
   "id": "3f8e3c77-02a5-42cc-96d0-7d5ba7018536",
   "metadata": {},
   "source": [
    "*After web scraping on first page with three hotel websites between date 01-10-2024 to 03-10-2024, we can see that clearly in the terms of best deal price, Agoda has better price than another which the median price is around RM117. This situation give an ideal price for customer want to save money upon via vacation. The first page view, Agoda give more cheap value which can excited the customer to rent the hotel through the website. Compared to another website, the first page of MHHolidays and Expedia has higher prices which can affect the customer's first point of view. This could lead to a lower conversion rate for MHHolidays and Expedia as customers may be more likely to choose Agoda due to its more affordable pricing. In additional, the average price for hotel booking on Agoda has very low price compare to another website which only Rm104.72. This make agoda an ideal option for hotel booking compare to another website.*"
   ]
  },
  {
   "cell_type": "code",
   "execution_count": 1022,
   "id": "f7c2a289-7402-47d9-9b84-567b41055115",
   "metadata": {},
   "outputs": [
    {
     "name": "stdout",
     "output_type": "stream",
     "text": [
      "          Web  Price(Rm)  Length  Average Price (Rm)\n",
      "0       Agoda  10263.000      98          104.724490\n",
      "1     Expedia  19278.000      50          385.560000\n",
      "2  MHHolidays  37177.345      74          502.396554\n"
     ]
    }
   ],
   "source": [
    "#Graph for comparison for first page based on web\n",
    "Data_by_website=Clean_Data.groupby('Web')[\"Price(Rm)\"].sum().reset_index()\n",
    "Length=[len(Data_Agoda),len(Data_Expedia),len(Data_MHholidays)]\n",
    "Data_by_website[\"Length\"]=Length\n",
    "Data_by_website[\"Average Price (Rm)\"]= Data_by_website[\"Price(Rm)\"]/Data_by_website[\"Length\"]\n",
    "print(Data_by_website)"
   ]
  },
  {
   "cell_type": "code",
   "execution_count": 1023,
   "id": "490415cb-015f-4ca9-a09b-4d10d7a70762",
   "metadata": {},
   "outputs": [
    {
     "data": {
      "image/png": "[encoded data removed]",
      "text/plain": [
       "<Figure size 640x480 with 1 Axes>"
      ]
     },
     "metadata": {},
     "output_type": "display_data"
    }
   ],
   "source": [
    "style.use(\"ggplot\")\n",
    "plt.barh(Data_by_website[\"Web\"],round(Data_by_website['Average Price (Rm)'],2), color=[ \"#FB6542\", \"#FFBB00\",\"#375E97\"])\n",
    "plt.xlabel(\"Average Price (Rm)\")\n",
    "plt.ylabel(\"Website\")\n",
    "plt.title(\"Average Price per Website\")\n",
    "for index, value in enumerate(round(Data_by_website['Average Price (Rm)'],2)):\n",
    "    plt.text(value, index,str(value))\n",
    "plt.show()"
   ]
  },
  {
   "cell_type": "code",
   "execution_count": 1025,
   "id": "7cc6aa3a-09b1-4b8b-9c50-cf6e05dfb9be",
   "metadata": {},
   "outputs": [
    {
     "data": {
      "text/plain": [
       "\"                                                            Name Hotel\\n0                        Sky Suites KLCC by Autumn Suites Premium Stay\\n1                                         Soho suites KLCC by Homestay\\n2                                  Swiss Garden Residence Kuala Lumpur\\n3                                        Eaton Residences KLCC by Luna\\n4                                      Tropicana The Residence By Klcc\\n5                         Regalia Residence @ KLCC View Sky Pool by KC\\n6                                       Arte Mont Kiara By Awesomestay\\n7                            Expressionz Professional Suites  Wodages \\n8                                          Greystone One Bukit Ceylon \\n9                                             Casa Residency Apartment\\n10                                         Yemala Suites @ Vortex KLCC\\n11                              Alanis & Core Suite Klia By Dreamscape\\n12                                      Legasi Kampung Baru Guesthouse\\n13                           Eaton Residence KLCC @ infinity Pool View\\n14                  Ceylonz Suites nr Pavilion & KLCC by YourSuperhost\\n15                                   EkoCheras Cozy Suite by GUESTONIC\\n16                                      Sky Suites KLCC by Luna Suites\\n17                                      Platinum KLCC by Luxury Suites\\n18                                         Ceylonz Suites by EdenZpace\\n19                                               Greystone Colony KLCC\\n20                       Times Square Service Apartment , Kuala Lumpur\\n21                   The Perfect Getaway 2.0 @ Tamarind Suites 300mbps\\n22                                Chambers Premier Suites Kuala Lumpur\\n23                   Nanas Dorsett 2+2pax Bukit Bintang Pavilion KL 68\\n24                                             Expressionz Suites KLCC\\n25                         The Robertson Bukit Bintang by San Eclipses\\n26                         Dorsett Residence Bukit Bintang by De Space\\n27                              The AXON @ Bukit Bintang, Kuala Lumpur\\n28                                                   NO.8 Times Suites\\n29                   The Establishment (EST) KL Sentral by Loop Suites\\n30                                     Chrisenbel Suites - Pinnacle PJ\\n31                                               Ginger8 @ Pinnacle PJ\\n32                                 Infini Suites@ Scarletz Suites KLCC\\n33                        The Axon Bukit Bintang Residence by De Space\\n34                          Arte Cheras The Premium Suites by iLuxHome\\n35                                     Arte Plus Ampang By Awesomestay\\n36                                         D'Majestic Place by Widebed\\n37                             Alanis Suite With Netflix @ KLIA Sepang\\n38                                Infini Suites@ Continew Residence KL\\n39                               Bell Suite @ Sepang KLIA Kota Warisan\\n40                                                 ARK Staycation Home\\n41                                      The Axon Suites Bukit Bintang \\n42                                      Park View KLCC ,by DeLive Home\\n43                                        Sky Suites KLCC Kuala Lumpur\\n44                                   Arte Mont Kiara By The Relax Stay\\n45                                             Neu Suites By Moonlight\\n46                                 The Platinum 2 Kuala Lumpur by LUMA\\n47                  AXON RESIDENCES BUKIT BINTANG by Janice's Homestay\\n48                           Better Residence Suite at Times Square KL\\n49                                                  The Penthouse KLCC\\n50                    Scarletz Suites KLCC by De Harlequins Guesthouse\\n51                                       The Platinum KLCC By Sky Pool\\n52                     Nanas Dorsett 6pax Bukit Bintang Pavilion KL 99\\n53                          Infini Suites@ The Robertson Bukit Bintang\\n54                              Neu Suites @ 3rdNvenue by Perfect Host\\n55                           Centrestage Petaling Jaya by Perfect Host\\n56                                                Cozy Tamarind Suites\\n57                                  Soho Suites KLCC by the Betty Roux\\n58                                         The Luxe KLCC View Sky Pool\\n59                                         Studio 109 Regalia Suite KL\\n60                                Elements service suite@ Times Square\\n61                                             Star Luxury Suites KLCC\\n62                                      8 Kia Peng Suites KLCC by Luna\\n63                              The Colony By Infinitum By Awesomestay\\n64                                Casa Mutiara Apartments by Moonlight\\n65                      Sanitized, Queensville near Midvalley #Netflix\\n66                                                 Hotel Primera Suite\\n67                                             Arte Plus KLCC by Cobnb\\n68         Aurora Place Suites Kuala Lumpur Bukit Jalil by Rasa Sayang\\n69                                      vortex suites klcc by homestay\\n70                           Continew Residence Cozy Home by Guestonic\\n71                                           VELOCITY KL SUITES BY PSM\\n72                                                          Zeta Desky\\n73                           The Platinum Suites at KLCC by Veedu Hauz\\n74                   One Bukit Ceylon Lumi 5 Pavillion Bukit Bintang  \\n75                          KLCC  Premium Queen bed  One Bukit Ceylon \\n76                   Greenfield Residence,  Sunway by The Comfort Zone\\n77                                            KL Suite at Times Square\\n78      Comfy Homes Unit PacificTowers Wifi Parking Netflix Opp Jaya 1\\n79                      Axon Bukit Bintang Pavillion KL KLCC by GoMain\\n80                                           D'Majestic by Lush Living\\n81  Crown Suites Tropicana The Residence KLCC Kuala Lumpur City Center\\n82                    Nanas Dorsett 4pax Bukit Bintang Pavilion KL 610\\n83                                                KL Gateway Residence\\n84                                     Vortex Suites KLCC by BlackNest\\n85                                                   Minsu (Ekocheras)\\n86                                Regalia Residence The Sky Pool Suite\\n87                                        Pavilion Embassy Suites KLCC\\n88                           Horizon Suite Homestay, KLIA by S&T Homez\\n89                                            Reizz Homestay By Classy\\n90                         De Centrum By Jom La Homestay, Kajang Bangi\\n91                                    Axon Premier Suites Kuala Lumpur\\n92                        Rasa Sayang Homestay at Bukit Jalil Pavilion\\n93                                               Manatidur@THE HUB SS2\\n94                                   Axon Serviced Suites Kuala Lumpur\\n95  Pacific Home Petaling Jaya @ The Curve, 1 Utama, Universiti Malaya\\n96                         Regalia Residence And Suites By Awesomestay\\n97                      Crystal Suites at Axon Residence near Pavilion\""
      ]
     },
     "execution_count": 1025,
     "metadata": {},
     "output_type": "execute_result"
    }
   ],
   "source": [
    "#Reason why Agoda is cheapest\n",
    "#Performing Text Analysis\n",
    "Text_Data=Data[[\"Web\",\"Name Hotel\"]]\n",
    "Text_Data_Agoda=Text_Data.loc[(Data[\"Web\"]==\"Agoda\")].drop(\"Web\",axis=1).to_string()\n",
    "Text_Data_Expedia=Text_Data.loc[(Data[\"Web\"]==\"Expedia\")].drop(\"Web\",axis=1).to_string()\n",
    "Text_Data_MHHolidays=Text_Data.loc[(Data[\"Web\"]==\"MHHolidays\")].drop(\"Web\",axis=1).to_string()\n",
    "Text_Data_Agoda"
   ]
  },
  {
   "cell_type": "code",
   "execution_count": 1026,
   "id": "d294e381-4b41-4f7d-b3fb-6ff1e3f2feaa",
   "metadata": {},
   "outputs": [
    {
     "name": "stdout",
     "output_type": "stream",
     "text": [
      " hotel sky suite  autumn suite premium stay soho suite  homestay swiss garden residence  eaton residence  luna tropicana residence  regalia residence  view sky  kc arte mont kiara awesomestay expressionz professional suite wodages greystone   ceylon casa residency apartment yemala suite vortex  alanis core suite  dreamscape legasi kampung baru guesthouse eaton residence  infinity  view ceylonz suite nr pavilion  yoursuperhost ekocheras cozy suite guestonic sky suite  luna suite platinum  luxury suite ceylonz suite edenzpace greystone colony  time square service apartment   getaway tamarind suite  chamber premier suite   dorsett    pavilion  expressionz suite  robertson   san eclipse dorsett residence    space axon    time suite establishment    loop suite chrisenbel suite pinnacle  ginger pinnacle  infini suite scarletz suite  axon   residence  space arte cheras premium suite iluxhome arte plus ampang awesomestay dmajestic place widebed alanis suite netflix   infini suite continew residence  bell suite    ark staycation  axon suite   park view  delive  sky suite   arte mont kiara relax stay  suite moonlight platinum  luma axon residence   janices homestay better residence suite time square  penthouse  scarletz suite   harlequin guesthouse platinum  sky   dorsett    pavilion  infini suite robertson    suite rdnvenue  host centrestage petaling jaya  host cozy tamarind suite soho suite  betty roux luxe  view sky  studio regalia suite  element service suite time square star luxury suite  kia peng suite  luna colony infinitum awesomestay casa mutiara apartment moonlight sanitized queensville near midvalley netflix hotel primera suite arte plus  cobnb aurora place suite   jalil rasa sayang vortex suite  homestay continew residence cozy  guestonic velocity  suite psm zeta desky platinum suite  veedu hauz   ceylon lumi pavillion    premium queen    ceylon greenfield residence  comfort zone  suite time square comfy  unit pacifictowers  parking netflix opp jaya axon   pavillion   gomain dmajestic lush living crown suite tropicana residence   city center  dorsett    pavilion   gateway residence vortex suite  blacknest minsu ekocheras regalia residence sky  suite pavilion embassy suite  horizon suite homestay   homez reizz homestay classy  centrum jom la homestay kajang bangi axon premier suite  rasa sayang homestay  jalil pavilion manatidurthe hub  axon serviced suite  pacific  petaling jaya curve utama universiti malaya regalia residence suite awesomestay crystal suite axon residence near pavilion\n"
     ]
    }
   ],
   "source": [
    "#Text Data Cleaning\n",
    "def preprocess_text(text):\n",
    "    text=text.lower()\n",
    "    text=re.sub(r'\\d+',\"\",text) #remove digits\n",
    "    text=re.sub(r'[^\\w\\s]',\"\",text) #remove special character\n",
    "    #Tokenize the text\n",
    "    tokens = nltk.word_tokenize(text)\n",
    "    return tokens\n",
    "\n",
    "def remove_stopwords(tokens):\n",
    "    stop_words =set(stopwords.words('english'))\n",
    "    filtered_tokens = [word for word in tokens if word not in stop_words]\n",
    "    return filtered_tokens\n",
    "\n",
    "def perform_lemmatization(tokens):\n",
    "    lemmatizer =nltk.WordNetLemmatizer()\n",
    "    lemmatized_tokens = [lemmatizer.lemmatize(token) for token in tokens]\n",
    "    return lemmatized_tokens\n",
    "\n",
    "def clean_text(text):\n",
    "    tokens= preprocess_text(text)\n",
    "    filtered_tokens = remove_stopwords(tokens)\n",
    "    lemmatized_tokens=perform_lemmatization(filtered_tokens)\n",
    "    clean_text= \" \".join(lemmatized_tokens)\n",
    "    return clean_text\n",
    "\n",
    "cleaned_data_agoda=clean_text(Text_Data_Agoda)\n",
    "cleaned_data_Expedia=clean_text(Text_Data_Expedia)\n",
    "cleaned_data_MHHolidays=clean_text(Text_Data_MHHolidays)\n",
    "pattern = r\"\\b(le|h|v|hote|q|ihg|e|lrt|sentral|min|neu|one|s|bukit|w|train|bintang|pool|u|de|bed|st|kl|sunway|pyramid|putrajaya|klcc|mall|connected|kuala lumpur|name|wifi|damansara|bukit bintang|pj|klia|mbps|travel|r|b|neflix|home|sepang|nanas|est|pax|bangsar|kota warisan|damansra perdana|perfect|bedroom|promoconnected)\\b\"\n",
    "cleaned_data_agoda = re.sub(pattern, \"\", cleaned_data_agoda)\n",
    "cleaned_data_Expedia = re.sub(pattern, \"\", cleaned_data_Expedia)\n",
    "cleaned_data_MHHolidays = re.sub(pattern, \"\", cleaned_data_MHHolidays)\n",
    "print(cleaned_data_agoda)"
   ]
  },
  {
   "cell_type": "code",
   "execution_count": 1027,
   "id": "34125abd-0dd8-40af-a812-e6600477c306",
   "metadata": {},
   "outputs": [
    {
     "name": "stdout",
     "output_type": "stream",
     "text": [
      "The words frequency : {'hotel': 2, 'sky': 8, 'suite': 52, 'premium': 3, 'stay': 14, 'soho': 2, 'homestay': 7, 'residence': 17, 'eaton': 2, 'luna': 3, 'tropicana': 2, 'regalia': 4, 'view': 4, 'arte': 5, 'mont': 2, 'kiara': 2, 'awesomestay': 4, 'expressionz': 2, 'greystone': 2, 'ceylon': 5, 'casa': 2, 'apartment': 3, 'vortex': 3, 'alanis': 2, 'guesthouse': 2, 'ceylonz': 2, 'pavilion': 7, 'ekocheras': 2, 'cozy': 3, 'guestonic': 2, 'platinum': 4, 'luxury': 2, 'colony': 2, 'time': 5, 'square': 4, 'service': 3, 'tamarind': 2, 'premier': 2, 'dorsett': 4, 'robertson': 2, 'san': 2, 'space': 2, 'axon': 8, 'pinnacle': 2, 'infini': 5, 'scarletz': 2, 'cheras': 3, 'plus': 2, 'dmajestic': 2, 'place': 2, 'netflix': 3, 'continew': 2, 'ark': 3, 'park': 2, 'moonlight': 2, 'host': 3, 'petaling': 2, 'jaya': 3, 'kia': 3, 'near': 2, 'jalil': 2, 'rasa': 2, 'sayang': 2, 'pavillion': 2, 'queen': 2, 'city': 2, 'la': 14, 'pacific': 2}\n"
     ]
    }
   ],
   "source": [
    "# Using dictionary comprehension + count() + split()\n",
    "Data_Agoda = {key: cleaned_data_agoda.count(key) for key in cleaned_data_agoda.split()}\n",
    "Data_Expedia = {key: cleaned_data_Expedia.count(key) for key in cleaned_data_Expedia.split()}\n",
    "Data_MHHolidays = {key: cleaned_data_MHHolidays.count(key) for key in cleaned_data_MHHolidays.split()}\n",
    "# Remove words with frequency below 1\n",
    "Data_Agoda = {key: value for key, value in Data_Agoda.items() if value > 1}\n",
    "Data_Expedia = {key: value for key, value in Data_Expedia.items() if value > 1}\n",
    "Data_MHHolidays= {key: value for key, value in Data_MHHolidays.items() if value > 1}\n",
    "# Printing result\n",
    "print(\"The words frequency : \" + str(Data_Agoda))\n",
    "\n",
    "#from dictionary to a Dataframe\n",
    "WordData_Agoda = pd.DataFrame.from_dict(Data_Agoda, orient='index', columns=['Frequency']).reset_index()\n",
    "WordData_Expedia = pd.DataFrame.from_dict(Data_Expedia, orient='index', columns=['Frequency']).reset_index()\n",
    "WordData_MHHolidays = pd.DataFrame.from_dict(Data_MHHolidays, orient='index', columns=['Frequency']).reset_index()"
   ]
  },
  {
   "cell_type": "code",
   "execution_count": 1028,
   "id": "b7657559-ca48-4809-8cd1-5aaf32c4d56c",
   "metadata": {},
   "outputs": [
    {
     "name": "stdout",
     "output_type": "stream",
     "text": [
      "         index  Frequency\n",
      "0        hotel         40\n",
      "1       resort          3\n",
      "2      mercure          2\n",
      "3          inn          2\n",
      "4         city          6\n",
      "5       centre          5\n",
      "6       garden          2\n",
      "7    signature          2\n",
      "8    residence          4\n",
      "9         park          4\n",
      "10       grand          7\n",
      "11       suite         10\n",
      "12         ion          3\n",
      "13        shah          3\n",
      "14        alam          3\n",
      "15     dorsett          2\n",
      "16     pacific          3\n",
      "17  doubletree          3\n",
      "18      hilton          5\n",
      "19     wyndham          2\n",
      "20     regency          2\n",
      "21   parkroyal          2\n",
      "22    serviced          2\n",
      "23    petaling          2\n",
      "24        jaya          3\n",
      "25       world          2\n",
      "26       royal          4\n",
      "27        sama          2\n",
      "28      ascott          2\n",
      "29        tree          4\n"
     ]
    }
   ],
   "source": [
    "print(WordData_MHHolidays)"
   ]
  },
  {
   "cell_type": "code",
   "execution_count": 1029,
   "id": "9203350c-4c60-4e3b-9bbe-4d3fb40c5959",
   "metadata": {},
   "outputs": [
    {
     "name": "stdout",
     "output_type": "stream",
     "text": [
      "           Frequency\n",
      "suite             46\n",
      "residence          9\n",
      "stay               7\n",
      "ceylon             6\n",
      "city               5\n",
      "view               5\n",
      "promo              5\n",
      "pavilion           5\n",
      "axon               5\n",
      "sky                5\n",
      "homestay           4\n",
      "loft               4\n",
      "house              4\n",
      "dorsett            4\n",
      "host               4\n"
     ]
    }
   ],
   "source": [
    "#Comparison hotel price and Ratings\n",
    "TopFifteen_Agoda=WordData_Agoda.nlargest(15,\"Frequency\")\n",
    "TopFifteen_Expedia=WordData_Expedia.nlargest(15,\"Frequency\")\n",
    "TopFifteen_MHHolidays=WordData_MHHolidays.nlargest(15,\"Frequency\")\n",
    "print(TopTen_Agoda)"
   ]
  },
  {
   "cell_type": "code",
   "execution_count": 1030,
   "id": "d82dccc1-8d77-4f7a-a097-53e212527f59",
   "metadata": {},
   "outputs": [
    {
     "data": {
      "image/png": "[encoded data removed]",
      "text/plain": [
       "<Figure size 640x480 with 1 Axes>"
      ]
     },
     "metadata": {},
     "output_type": "display_data"
    },
    {
     "data": {
      "image/png": "[encoded data removed]",
      "text/plain": [
       "<Figure size 640x480 with 1 Axes>"
      ]
     },
     "metadata": {},
     "output_type": "display_data"
    },
    {
     "data": {
      "image/png": "[encoded data removed]",
      "text/plain": [
       "<Figure size 640x480 with 1 Axes>"
      ]
     },
     "metadata": {},
     "output_type": "display_data"
    }
   ],
   "source": [
    "def create_Barchart(dataframe,title):\n",
    "    style.use(\"ggplot\")\n",
    "    #add colour\n",
    "    colors = sns.color_palette(\"Set3\", len(dataframe))\n",
    "    # Create a dictionary mapping word indexes to their frequencies\n",
    "    Data = dict(zip(dataframe['index'], dataframe['Frequency']))\n",
    "    plt.barh(dataframe[\"index\"], dataframe['Frequency'],color=\"Blue\")\n",
    "    for index, value in enumerate(dataframe['Frequency']):\n",
    "        plt.text(value, index,str(value))\n",
    "    # setting label of y-axis\n",
    "    plt.ylabel(\"Word\")\n",
    " \n",
    "    # setting label of x-axis\n",
    "    plt.xlabel(\"Word Count\") \n",
    "    plt.title(title)\n",
    "    plt.show()\n",
    "\n",
    "create_Barchart(TopFifteen_Agoda, \"Top 15 Words in Agoda Website\")\n",
    "create_Barchart(TopFifteen_Expedia, \"Top 15 Words in Expedia Website\")\n",
    "create_Barchart(TopFifteen_MHHolidays, \"Top 15 Words in MHHolidays Website\")"
   ]
  },
  {
   "cell_type": "markdown",
   "id": "ff6f6f7d-3136-4f98-87ce-5015b73bbd78",
   "metadata": {},
   "source": [
    "*From the results, results show that Agoda offers a variety of accommodation options, including private homes, condos, and homestays, often referred to as \"residences,\" \"stays,\" \"homestays,\" and \"awesomestays.\" These options tend to be more affordable than the branded hotels offered by MHHolidays and Expedia, such as Hilton and city hotels. This difference in pricing is largely due to the nature of the accommodation and the associated costs involved in running and maintaining these different types of properties.*"
   ]
  },
  {
   "cell_type": "code",
   "execution_count": 1053,
   "id": "95220710-546f-42ae-a8f5-d6da02173a93",
   "metadata": {},
   "outputs": [
    {
     "data": {
      "text/html": [
       "<div>\n",
       "<style scoped>\n",
       "    .dataframe tbody tr th:only-of-type {\n",
       "        vertical-align: middle;\n",
       "    }\n",
       "\n",
       "    .dataframe tbody tr th {\n",
       "        vertical-align: top;\n",
       "    }\n",
       "\n",
       "    .dataframe thead th {\n",
       "        text-align: right;\n",
       "    }\n",
       "</style>\n",
       "<table border=\"1\" class=\"dataframe\">\n",
       "  <thead>\n",
       "    <tr style=\"text-align: right;\">\n",
       "      <th></th>\n",
       "      <th>Pax</th>\n",
       "      <th>Check In</th>\n",
       "      <th>Check Out</th>\n",
       "      <th>Place</th>\n",
       "      <th>Web</th>\n",
       "      <th>Name Hotel</th>\n",
       "      <th>Price(Rm)</th>\n",
       "      <th>Ratings</th>\n",
       "    </tr>\n",
       "  </thead>\n",
       "  <tbody>\n",
       "    <tr>\n",
       "      <th>157</th>\n",
       "      <td>2</td>\n",
       "      <td>2024-10-01</td>\n",
       "      <td>2024-10-03</td>\n",
       "      <td>Kuala Lumpur</td>\n",
       "      <td>MHHolidays</td>\n",
       "      <td>Mandarin Oriental, Kuala Lumpur</td>\n",
       "      <td>1390.255</td>\n",
       "      <td>10.0</td>\n",
       "    </tr>\n",
       "    <tr>\n",
       "      <th>178</th>\n",
       "      <td>2 travellers, 1 room</td>\n",
       "      <td>2024-10-01</td>\n",
       "      <td>2024-10-03</td>\n",
       "      <td>Kuala Lumpur</td>\n",
       "      <td>Expedia</td>\n",
       "      <td>Mandarin Oriental, Kuala Lumpur</td>\n",
       "      <td>125.000</td>\n",
       "      <td>9.4</td>\n",
       "    </tr>\n",
       "  </tbody>\n",
       "</table>\n",
       "</div>"
      ],
      "text/plain": [
       "                      Pax    Check In   Check Out          Place         Web  \\\n",
       "157                     2  2024-10-01  2024-10-03   Kuala Lumpur  MHHolidays   \n",
       "178  2 travellers, 1 room  2024-10-01  2024-10-03   Kuala Lumpur     Expedia   \n",
       "\n",
       "                            Name Hotel  Price(Rm)  Ratings  \n",
       "157  Mandarin Oriental, Kuala Lumpur     1390.255     10.0  \n",
       "178    Mandarin Oriental, Kuala Lumpur    125.000      9.4  "
      ]
     },
     "execution_count": 1053,
     "metadata": {},
     "output_type": "execute_result"
    }
   ],
   "source": [
    "#Comparison Hotel Price in Sunway Velocity \n",
    "Clean_Data[Clean_Data['Name Hotel'].str.contains('Oriental', case=False)]"
   ]
  },
  {
   "cell_type": "code",
   "execution_count": 1055,
   "id": "a2026c87-a52e-4c4f-a2b4-dde24e61d5aa",
   "metadata": {},
   "outputs": [
    {
     "data": {
      "text/html": [
       "<div>\n",
       "<style scoped>\n",
       "    .dataframe tbody tr th:only-of-type {\n",
       "        vertical-align: middle;\n",
       "    }\n",
       "\n",
       "    .dataframe tbody tr th {\n",
       "        vertical-align: top;\n",
       "    }\n",
       "\n",
       "    .dataframe thead th {\n",
       "        text-align: right;\n",
       "    }\n",
       "</style>\n",
       "<table border=\"1\" class=\"dataframe\">\n",
       "  <thead>\n",
       "    <tr style=\"text-align: right;\">\n",
       "      <th></th>\n",
       "      <th>Pax</th>\n",
       "      <th>Check In</th>\n",
       "      <th>Check Out</th>\n",
       "      <th>Place</th>\n",
       "      <th>Web</th>\n",
       "      <th>Name Hotel</th>\n",
       "      <th>Price(Rm)</th>\n",
       "      <th>Ratings</th>\n",
       "    </tr>\n",
       "  </thead>\n",
       "  <tbody>\n",
       "    <tr>\n",
       "      <th>0</th>\n",
       "      <td>1 adult,1 child1 room</td>\n",
       "      <td>2024-10-01</td>\n",
       "      <td>2024-10-03</td>\n",
       "      <td>Kuala Lumpur</td>\n",
       "      <td>Agoda</td>\n",
       "      <td>Sky Suites KLCC by Autumn Suites Premium Stay</td>\n",
       "      <td>160.000</td>\n",
       "      <td>7.6</td>\n",
       "    </tr>\n",
       "    <tr>\n",
       "      <th>4</th>\n",
       "      <td>1 adult,1 child1 room</td>\n",
       "      <td>2024-10-01</td>\n",
       "      <td>2024-10-03</td>\n",
       "      <td>Kuala Lumpur</td>\n",
       "      <td>Agoda</td>\n",
       "      <td>Tropicana The Residence By Klcc</td>\n",
       "      <td>365.000</td>\n",
       "      <td>8.6</td>\n",
       "    </tr>\n",
       "    <tr>\n",
       "      <th>5</th>\n",
       "      <td>1 adult,1 child1 room</td>\n",
       "      <td>2024-10-01</td>\n",
       "      <td>2024-10-03</td>\n",
       "      <td>Kuala Lumpur</td>\n",
       "      <td>Agoda</td>\n",
       "      <td>Regalia Residence @ KLCC View Sky Pool by KC</td>\n",
       "      <td>78.000</td>\n",
       "      <td>7.6</td>\n",
       "    </tr>\n",
       "    <tr>\n",
       "      <th>10</th>\n",
       "      <td>1 adult,1 child1 room</td>\n",
       "      <td>2024-10-01</td>\n",
       "      <td>2024-10-03</td>\n",
       "      <td>Kuala Lumpur</td>\n",
       "      <td>Agoda</td>\n",
       "      <td>Yemala Suites @ Vortex KLCC</td>\n",
       "      <td>238.000</td>\n",
       "      <td>8.1</td>\n",
       "    </tr>\n",
       "    <tr>\n",
       "      <th>14</th>\n",
       "      <td>1 adult,1 child1 room</td>\n",
       "      <td>2024-10-01</td>\n",
       "      <td>2024-10-03</td>\n",
       "      <td>Kuala Lumpur</td>\n",
       "      <td>Agoda</td>\n",
       "      <td>Ceylonz Suites nr Pavilion &amp; KLCC by YourSuper...</td>\n",
       "      <td>123.000</td>\n",
       "      <td>8.4</td>\n",
       "    </tr>\n",
       "    <tr>\n",
       "      <th>16</th>\n",
       "      <td>1 adult,1 child1 room</td>\n",
       "      <td>2024-10-01</td>\n",
       "      <td>2024-10-03</td>\n",
       "      <td>Kuala Lumpur</td>\n",
       "      <td>Agoda</td>\n",
       "      <td>Sky Suites KLCC by Luna Suites</td>\n",
       "      <td>161.000</td>\n",
       "      <td>7.3</td>\n",
       "    </tr>\n",
       "    <tr>\n",
       "      <th>19</th>\n",
       "      <td>1 adult,1 child1 room</td>\n",
       "      <td>2024-10-01</td>\n",
       "      <td>2024-10-03</td>\n",
       "      <td>Kuala Lumpur</td>\n",
       "      <td>Agoda</td>\n",
       "      <td>Greystone Colony KLCC</td>\n",
       "      <td>82.000</td>\n",
       "      <td>7.9</td>\n",
       "    </tr>\n",
       "    <tr>\n",
       "      <th>24</th>\n",
       "      <td>1 adult,1 child1 room</td>\n",
       "      <td>2024-10-01</td>\n",
       "      <td>2024-10-03</td>\n",
       "      <td>Kuala Lumpur</td>\n",
       "      <td>Agoda</td>\n",
       "      <td>Expressionz Suites KLCC</td>\n",
       "      <td>119.000</td>\n",
       "      <td>8.1</td>\n",
       "    </tr>\n",
       "    <tr>\n",
       "      <th>32</th>\n",
       "      <td>1 adult,1 child1 room</td>\n",
       "      <td>2024-10-01</td>\n",
       "      <td>2024-10-03</td>\n",
       "      <td>Kuala Lumpur</td>\n",
       "      <td>Agoda</td>\n",
       "      <td>Infini Suites@ Scarletz Suites KLCC</td>\n",
       "      <td>178.000</td>\n",
       "      <td>8.4</td>\n",
       "    </tr>\n",
       "    <tr>\n",
       "      <th>42</th>\n",
       "      <td>1 adult,1 child1 room</td>\n",
       "      <td>2024-10-01</td>\n",
       "      <td>2024-10-03</td>\n",
       "      <td>Kuala Lumpur</td>\n",
       "      <td>Agoda</td>\n",
       "      <td>Park View KLCC ,by DeLive Home</td>\n",
       "      <td>117.000</td>\n",
       "      <td>8.7</td>\n",
       "    </tr>\n",
       "    <tr>\n",
       "      <th>43</th>\n",
       "      <td>1 adult,1 child1 room</td>\n",
       "      <td>2024-10-01</td>\n",
       "      <td>2024-10-03</td>\n",
       "      <td>Kuala Lumpur</td>\n",
       "      <td>Agoda</td>\n",
       "      <td>Sky Suites KLCC Kuala Lumpur</td>\n",
       "      <td>318.000</td>\n",
       "      <td>6.8</td>\n",
       "    </tr>\n",
       "    <tr>\n",
       "      <th>49</th>\n",
       "      <td>1 adult,1 child1 room</td>\n",
       "      <td>2024-10-01</td>\n",
       "      <td>2024-10-03</td>\n",
       "      <td>Kuala Lumpur</td>\n",
       "      <td>Agoda</td>\n",
       "      <td>The Penthouse KLCC</td>\n",
       "      <td>238.000</td>\n",
       "      <td>7.6</td>\n",
       "    </tr>\n",
       "    <tr>\n",
       "      <th>50</th>\n",
       "      <td>1 adult,1 child1 room</td>\n",
       "      <td>2024-10-01</td>\n",
       "      <td>2024-10-03</td>\n",
       "      <td>Kuala Lumpur</td>\n",
       "      <td>Agoda</td>\n",
       "      <td>Scarletz Suites KLCC by De Harlequins Guesthouse</td>\n",
       "      <td>90.000</td>\n",
       "      <td>8.3</td>\n",
       "    </tr>\n",
       "    <tr>\n",
       "      <th>57</th>\n",
       "      <td>1 adult,1 child1 room</td>\n",
       "      <td>2024-10-01</td>\n",
       "      <td>2024-10-03</td>\n",
       "      <td>Kuala Lumpur</td>\n",
       "      <td>Agoda</td>\n",
       "      <td>Soho Suites KLCC by the Betty Roux</td>\n",
       "      <td>96.000</td>\n",
       "      <td>7.8</td>\n",
       "    </tr>\n",
       "    <tr>\n",
       "      <th>58</th>\n",
       "      <td>1 adult,1 child1 room</td>\n",
       "      <td>2024-10-01</td>\n",
       "      <td>2024-10-03</td>\n",
       "      <td>Kuala Lumpur</td>\n",
       "      <td>Agoda</td>\n",
       "      <td>The Luxe KLCC View Sky Pool</td>\n",
       "      <td>113.000</td>\n",
       "      <td>7.6</td>\n",
       "    </tr>\n",
       "    <tr>\n",
       "      <th>67</th>\n",
       "      <td>1 adult,1 child1 room</td>\n",
       "      <td>2024-10-01</td>\n",
       "      <td>2024-10-03</td>\n",
       "      <td>Kuala Lumpur</td>\n",
       "      <td>Agoda</td>\n",
       "      <td>Arte Plus KLCC by Cobnb</td>\n",
       "      <td>136.000</td>\n",
       "      <td>8.2</td>\n",
       "    </tr>\n",
       "    <tr>\n",
       "      <th>73</th>\n",
       "      <td>1 adult,1 child1 room</td>\n",
       "      <td>2024-10-01</td>\n",
       "      <td>2024-10-03</td>\n",
       "      <td>Kuala Lumpur</td>\n",
       "      <td>Agoda</td>\n",
       "      <td>The Platinum Suites at KLCC by Veedu Hauz</td>\n",
       "      <td>238.000</td>\n",
       "      <td>8.8</td>\n",
       "    </tr>\n",
       "    <tr>\n",
       "      <th>75</th>\n",
       "      <td>1 adult,1 child1 room</td>\n",
       "      <td>2024-10-01</td>\n",
       "      <td>2024-10-03</td>\n",
       "      <td>Kuala Lumpur</td>\n",
       "      <td>Agoda</td>\n",
       "      <td>KLCC  Premium Queen bed  One Bukit Ceylon</td>\n",
       "      <td>101.000</td>\n",
       "      <td>8.0</td>\n",
       "    </tr>\n",
       "    <tr>\n",
       "      <th>79</th>\n",
       "      <td>1 adult,1 child1 room</td>\n",
       "      <td>2024-10-01</td>\n",
       "      <td>2024-10-03</td>\n",
       "      <td>Kuala Lumpur</td>\n",
       "      <td>Agoda</td>\n",
       "      <td>Axon Bukit Bintang Pavillion KL KLCC by GoMain</td>\n",
       "      <td>180.000</td>\n",
       "      <td>8.0</td>\n",
       "    </tr>\n",
       "    <tr>\n",
       "      <th>84</th>\n",
       "      <td>1 adult,1 child1 room</td>\n",
       "      <td>2024-10-01</td>\n",
       "      <td>2024-10-03</td>\n",
       "      <td>Kuala Lumpur</td>\n",
       "      <td>Agoda</td>\n",
       "      <td>Vortex Suites KLCC by BlackNest</td>\n",
       "      <td>229.000</td>\n",
       "      <td>8.5</td>\n",
       "    </tr>\n",
       "    <tr>\n",
       "      <th>87</th>\n",
       "      <td>1 adult,1 child1 room</td>\n",
       "      <td>2024-10-01</td>\n",
       "      <td>2024-10-03</td>\n",
       "      <td>Kuala Lumpur</td>\n",
       "      <td>Agoda</td>\n",
       "      <td>Pavilion Embassy Suites KLCC</td>\n",
       "      <td>274.000</td>\n",
       "      <td>8.7</td>\n",
       "    </tr>\n",
       "    <tr>\n",
       "      <th>129</th>\n",
       "      <td>2</td>\n",
       "      <td>2024-10-01</td>\n",
       "      <td>2024-10-03</td>\n",
       "      <td>Kuala Lumpur</td>\n",
       "      <td>MHHolidays</td>\n",
       "      <td>Scarletz KLCC Apartments By soulasia</td>\n",
       "      <td>307.840</td>\n",
       "      <td>10.0</td>\n",
       "    </tr>\n",
       "    <tr>\n",
       "      <th>147</th>\n",
       "      <td>2</td>\n",
       "      <td>2024-10-01</td>\n",
       "      <td>2024-10-03</td>\n",
       "      <td>Kuala Lumpur</td>\n",
       "      <td>MHHolidays</td>\n",
       "      <td>Wyndham Suites KLCC</td>\n",
       "      <td>652.810</td>\n",
       "      <td>10.0</td>\n",
       "    </tr>\n",
       "    <tr>\n",
       "      <th>154</th>\n",
       "      <td>2</td>\n",
       "      <td>2024-10-01</td>\n",
       "      <td>2024-10-03</td>\n",
       "      <td>Kuala Lumpur</td>\n",
       "      <td>MHHolidays</td>\n",
       "      <td>Ascott Star KLCC</td>\n",
       "      <td>976.745</td>\n",
       "      <td>10.0</td>\n",
       "    </tr>\n",
       "    <tr>\n",
       "      <th>210</th>\n",
       "      <td>2 travellers, 1 room</td>\n",
       "      <td>2024-10-01</td>\n",
       "      <td>2024-10-03</td>\n",
       "      <td>Kuala Lumpur</td>\n",
       "      <td>Expedia</td>\n",
       "      <td>Royal Suites at Platinum Kuala Lumpur Bukit Bi...</td>\n",
       "      <td>216.000</td>\n",
       "      <td>8.2</td>\n",
       "    </tr>\n",
       "  </tbody>\n",
       "</table>\n",
       "</div>"
      ],
      "text/plain": [
       "                       Pax    Check In   Check Out          Place         Web  \\\n",
       "0    1 adult,1 child1 room  2024-10-01  2024-10-03   Kuala Lumpur       Agoda   \n",
       "4    1 adult,1 child1 room  2024-10-01  2024-10-03   Kuala Lumpur       Agoda   \n",
       "5    1 adult,1 child1 room  2024-10-01  2024-10-03   Kuala Lumpur       Agoda   \n",
       "10   1 adult,1 child1 room  2024-10-01  2024-10-03   Kuala Lumpur       Agoda   \n",
       "14   1 adult,1 child1 room  2024-10-01  2024-10-03   Kuala Lumpur       Agoda   \n",
       "16   1 adult,1 child1 room  2024-10-01  2024-10-03   Kuala Lumpur       Agoda   \n",
       "19   1 adult,1 child1 room  2024-10-01  2024-10-03   Kuala Lumpur       Agoda   \n",
       "24   1 adult,1 child1 room  2024-10-01  2024-10-03   Kuala Lumpur       Agoda   \n",
       "32   1 adult,1 child1 room  2024-10-01  2024-10-03   Kuala Lumpur       Agoda   \n",
       "42   1 adult,1 child1 room  2024-10-01  2024-10-03   Kuala Lumpur       Agoda   \n",
       "43   1 adult,1 child1 room  2024-10-01  2024-10-03   Kuala Lumpur       Agoda   \n",
       "49   1 adult,1 child1 room  2024-10-01  2024-10-03   Kuala Lumpur       Agoda   \n",
       "50   1 adult,1 child1 room  2024-10-01  2024-10-03   Kuala Lumpur       Agoda   \n",
       "57   1 adult,1 child1 room  2024-10-01  2024-10-03   Kuala Lumpur       Agoda   \n",
       "58   1 adult,1 child1 room  2024-10-01  2024-10-03   Kuala Lumpur       Agoda   \n",
       "67   1 adult,1 child1 room  2024-10-01  2024-10-03   Kuala Lumpur       Agoda   \n",
       "73   1 adult,1 child1 room  2024-10-01  2024-10-03   Kuala Lumpur       Agoda   \n",
       "75   1 adult,1 child1 room  2024-10-01  2024-10-03   Kuala Lumpur       Agoda   \n",
       "79   1 adult,1 child1 room  2024-10-01  2024-10-03   Kuala Lumpur       Agoda   \n",
       "84   1 adult,1 child1 room  2024-10-01  2024-10-03   Kuala Lumpur       Agoda   \n",
       "87   1 adult,1 child1 room  2024-10-01  2024-10-03   Kuala Lumpur       Agoda   \n",
       "129                      2  2024-10-01  2024-10-03   Kuala Lumpur  MHHolidays   \n",
       "147                      2  2024-10-01  2024-10-03   Kuala Lumpur  MHHolidays   \n",
       "154                      2  2024-10-01  2024-10-03   Kuala Lumpur  MHHolidays   \n",
       "210   2 travellers, 1 room  2024-10-01  2024-10-03   Kuala Lumpur     Expedia   \n",
       "\n",
       "                                            Name Hotel  Price(Rm)  Ratings  \n",
       "0        Sky Suites KLCC by Autumn Suites Premium Stay    160.000      7.6  \n",
       "4                      Tropicana The Residence By Klcc    365.000      8.6  \n",
       "5         Regalia Residence @ KLCC View Sky Pool by KC     78.000      7.6  \n",
       "10                         Yemala Suites @ Vortex KLCC    238.000      8.1  \n",
       "14   Ceylonz Suites nr Pavilion & KLCC by YourSuper...    123.000      8.4  \n",
       "16                      Sky Suites KLCC by Luna Suites    161.000      7.3  \n",
       "19                               Greystone Colony KLCC     82.000      7.9  \n",
       "24                             Expressionz Suites KLCC    119.000      8.1  \n",
       "32                 Infini Suites@ Scarletz Suites KLCC    178.000      8.4  \n",
       "42                      Park View KLCC ,by DeLive Home    117.000      8.7  \n",
       "43                        Sky Suites KLCC Kuala Lumpur    318.000      6.8  \n",
       "49                                  The Penthouse KLCC    238.000      7.6  \n",
       "50    Scarletz Suites KLCC by De Harlequins Guesthouse     90.000      8.3  \n",
       "57                  Soho Suites KLCC by the Betty Roux     96.000      7.8  \n",
       "58                         The Luxe KLCC View Sky Pool    113.000      7.6  \n",
       "67                             Arte Plus KLCC by Cobnb    136.000      8.2  \n",
       "73           The Platinum Suites at KLCC by Veedu Hauz    238.000      8.8  \n",
       "75          KLCC  Premium Queen bed  One Bukit Ceylon     101.000      8.0  \n",
       "79      Axon Bukit Bintang Pavillion KL KLCC by GoMain    180.000      8.0  \n",
       "84                     Vortex Suites KLCC by BlackNest    229.000      8.5  \n",
       "87                        Pavilion Embassy Suites KLCC    274.000      8.7  \n",
       "129             Scarletz KLCC Apartments By soulasia      307.840     10.0  \n",
       "147                              Wyndham Suites KLCC      652.810     10.0  \n",
       "154                                 Ascott Star KLCC      976.745     10.0  \n",
       "210  Royal Suites at Platinum Kuala Lumpur Bukit Bi...    216.000      8.2  "
      ]
     },
     "execution_count": 1055,
     "metadata": {},
     "output_type": "execute_result"
    }
   ],
   "source": [
    "#Comparison Hotel Price in klcc\n",
    "Clean_Data[Clean_Data['Name Hotel'].str.contains('klcc', case=False)]"
   ]
  }
 ],
 "metadata": {
  "kernelspec": {
   "display_name": "Python 3 (ipykernel)",
   "language": "python",
   "name": "python3"
  },
  "language_info": {
   "codemirror_mode": {
    "name": "ipython",
    "version": 3
   },
   "file_extension": ".py",
   "mimetype": "text/x-python",
   "name": "python",
   "nbconvert_exporter": "python",
   "pygments_lexer": "ipython3",
   "version": "3.12.4"
  }
 },
 "nbformat": 4,
 "nbformat_minor": 5
}

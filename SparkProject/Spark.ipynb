{
  "nbformat": 4,
  "nbformat_minor": 0,
  "metadata": {
    "colab": {
      "provenance": []
    },
    "kernelspec": {
      "name": "python3",
      "display_name": "Python 3"
    },
    "language_info": {
      "name": "python"
    }
  },
  "cells": [
    {
      "cell_type": "code",
      "execution_count": null,
      "metadata": {
        "colab": {
          "base_uri": "https://localhost:8080/"
        },
        "id": "qucSX2YsIVy-",
        "outputId": "5207ca64-6b38-4562-ad94-ba76b3478ccd"
      },
      "outputs": [
        {
          "output_type": "stream",
          "name": "stdout",
          "text": [
            "Drive already mounted at /content/drive; to attempt to forcibly remount, call drive.mount(\"/content/drive\", force_remount=True).\n"
          ]
        }
      ],
      "source": [
        "from google.colab import drive\n",
        "drive.mount('/content/drive')"
      ]
    },
    {
      "cell_type": "code",
      "source": [
        "!pip install pyspark\n",
        "from pyspark.sql import SparkSession\n",
        "\n",
        "spark = SparkSession.builder\\\n",
        "    .master(\"local\")\\\n",
        "    .appName(\"Colab\")\\\n",
        "    .config(\"spark.ui.port\", \"4040\")\\\n",
        "    .getOrCreate()"
      ],
      "metadata": {
        "colab": {
          "base_uri": "https://localhost:8080/"
        },
        "id": "yLUOxG31JKFc",
        "outputId": "7d579d8c-0b79-49c0-e333-a34cc7e1f5de"
      },
      "execution_count": null,
      "outputs": [
        {
          "output_type": "stream",
          "name": "stdout",
          "text": [
            "Collecting pyspark\n",
            "  Downloading pyspark-3.4.1.tar.gz (310.8 MB)\n",
            "\u001b[2K     \u001b[90m━━━━━━━━━━━━━━━━━━━━━━━━━━━━━━━━━━━━━━━\u001b[0m \u001b[32m310.8/310.8 MB\u001b[0m \u001b[31m4.6 MB/s\u001b[0m eta \u001b[36m0:00:00\u001b[0m\n",
            "\u001b[?25h  Preparing metadata (setup.py) ... \u001b[?25l\u001b[?25hdone\n",
            "Requirement already satisfied: py4j==0.10.9.7 in /usr/local/lib/python3.10/dist-packages (from pyspark) (0.10.9.7)\n",
            "Building wheels for collected packages: pyspark\n",
            "  Building wheel for pyspark (setup.py) ... \u001b[?25l\u001b[?25hdone\n",
            "  Created wheel for pyspark: filename=pyspark-3.4.1-py2.py3-none-any.whl size=311285398 sha256=4b5d70216ce547861b0c25e728be759b715c5ba31d5a4f34e17df61af3be3b7a\n",
            "  Stored in directory: /root/.cache/pip/wheels/0d/77/a3/ff2f74cc9ab41f8f594dabf0579c2a7c6de920d584206e0834\n",
            "Successfully built pyspark\n",
            "Installing collected packages: pyspark\n",
            "Successfully installed pyspark-3.4.1\n"
          ]
        }
      ]
    },
    {
      "cell_type": "code",
      "source": [
        "from pyspark.sql import SparkSession\n",
        "from pyspark.sql import Row\n",
        "from pyspark.sql import functions\n",
        "\n",
        "from pyspark.sql.functions import avg, count,col,min,first\n",
        "from datetime import datetime"
      ],
      "metadata": {
        "id": "SHE-57RiMWr1"
      },
      "execution_count": null,
      "outputs": []
    },
    {
      "cell_type": "code",
      "source": [
        "def loadMovieNames():\n",
        "  movieNames = {}\n",
        "  try:\n",
        "    with open (\"/content/drive/MyDrive/ASIGNMENT3_DATAMANAGEMENT_P125754/ml-100k/u.item\", encoding = 'ISO-8859-1') as f:\n",
        "      for line in f:\n",
        "        fields = line.split('|')\n",
        "        movieNames[int(fields[0])] = fields[1]\n",
        "  except FileNotFoundError as error:\n",
        "    print(\"FileNotFoundError! \", error)\n",
        "  except Exception as error:\n",
        "    print(\"Problem!\", error)\n",
        "  return movieNames\n",
        "\n",
        "def parseInput(line):\n",
        "  try:\n",
        "    fields = line.split()\n",
        "    time = int(fields[3])\n",
        "    timestamp = datetime.fromtimestamp(time).strftime(\"%d-%m-%Y %H:%M:%S\")\n",
        "    return Row(MovieID = int(fields[1]), rating = float(fields[2]), time =timestamp)\n",
        "  except Exception as error:\n",
        "    print(\"Error! \",error)\n",
        "    return None"
      ],
      "metadata": {
        "id": "3BKCgr2cvhfc"
      },
      "execution_count": null,
      "outputs": []
    },
    {
      "cell_type": "code",
      "source": [
        "if __name__ == \"__main__\":\n",
        "  # Create a SparkSession\n",
        "  spark = SparkSession.builder.appName(\"PopularMovies\").getOrCreate()\n",
        "\n",
        "  # Load up our movie ID\n",
        "  movieNames = loadMovieNames()\n",
        "\n",
        "  # Get the raw data\n",
        "  lines = spark.sparkContext.textFile(\"/content/drive/MyDrive/ASIGNMENT3_DATAMANAGEMENT_P125754/ml-100k/u.data\")\n",
        "\n",
        "  # Convert it to a RDD of Row objects with (MovieID, rating, time)\n",
        "  movies = lines.map(parseInput)\n",
        "\n",
        "  #convert that to a Dataframe(movieId, rating, time)\n",
        "  movieDataset = spark.createDataFrame(movies,[\"MovieID\",\"Rating\",\"Timestamp\"])\n",
        "  movieNames   = spark.createDataFrame(list(movieNames.items()),[\"MovieID\",\"Title\"])\n",
        "\n",
        "  # Join movieDataset and movieNamesdf to movieID\n",
        "  moviesDataset_new = movieDataset.join(movieNames, \"MovieID\")\n",
        "\n",
        "  #Average rating, count ratings for each movie and filter out the movies with less than 100 ratings with the oldest timestamp\n",
        "  averageRatings = moviesDataset_new.groupBy(\"MovieID\",\"Title\").agg(avg(\"Rating\").alias(\"AvgRatings\"),count(\"Rating\").alias(\"RatingCount\"),min(\"Timestamp\").alias(\"Time\")).filter(\"RatingCount > 100\")\n",
        "\n",
        "  #save output(already save)\n",
        "  #averageRatings.write.options(header='True', delimiter='|').csv(\"/content/drive/MyDrive/ASIGNMENT3_DATAMANAGEMENT_P125754/AverageRatings\")\n",
        "\n",
        "  #sorted the movies based on the average rating by order latest timestamp with limit 25\n",
        "  #Best movies\n",
        "  print(\"\\nTop 25 Best Movies average rating ordered by oldest timestamp\")\n",
        "  Best_Movies=averageRatings.sort(col(\"AvgRatings\").desc()).limit(25)\n",
        "  Best_Movies_bytime=Best_Movies.orderBy(col(\"Time\").asc())\n",
        "  Best_Movies_bytime.show(truncate=False,n=25)\n",
        "  #Worst Average movies\n",
        "  print(\"\\nTop 25 worst average rating Movies ordered by oldest timestamp\")\n",
        "  Worst_Movies=averageRatings.sort(col(\"AvgRatings\").asc()).limit(25)\n",
        "  Worst_Movies_bytime=Worst_Movies.orderBy(col(\"Time\").asc())\n",
        "  Worst_Movies_bytime.show(truncate=False,n=25)\n",
        "\n",
        "\n",
        "  #saved the output(already save)\n",
        "  #Best_Movies_bytime.write.options(header='True', delimiter='|').csv(\"/content/drive/MyDrive/ASIGNMENT3_DATAMANAGEMENT_P125754/Best_Movies_bytime\")\n",
        "  #Worst_Movies_bytime.write.options(header='True', delimiter='|').csv(\"/content/drive/MyDrive/ASIGNMENT3_DATAMANAGEMENT_P125754/Worst_Movies_bytime\")\n",
        "\n",
        "  #stop spark\n",
        "  spark.stop()"
      ],
      "metadata": {
        "colab": {
          "base_uri": "https://localhost:8080/"
        },
        "id": "x1DR6mUMP5yA",
        "outputId": "c30f131b-5e55-4c23-9f29-f377211ec468"
      },
      "execution_count": null,
      "outputs": [
        {
          "output_type": "stream",
          "name": "stdout",
          "text": [
            "\n",
            "Top 25 Best Movies average rating ordered by oldest timestamp\n",
            "+-------+---------------------------------------------------------------------------+------------------+-----------+-------------------+\n",
            "|MovieID|Title                                                                      |AvgRatings        |RatingCount|Time               |\n",
            "+-------+---------------------------------------------------------------------------+------------------+-----------+-------------------+\n",
            "|127    |Godfather, The (1972)                                                      |4.283292978208232 |413        |01-01-1998 00:55:33|\n",
            "|50     |Star Wars (1977)                                                           |4.3584905660377355|583        |01-01-1998 00:57:34|\n",
            "|98     |Silence of the Lambs, The (1991)                                           |4.28974358974359  |390        |01-01-1998 15:21:37|\n",
            "|285    |Secrets & Lies (1996)                                                      |4.265432098765432 |162        |01-01-1998 19:08:43|\n",
            "|313    |Titanic (1997)                                                             |4.2457142857142856|350        |01-01-1998 19:08:43|\n",
            "|64     |Shawshank Redemption, The (1994)                                           |4.445229681978798 |283        |01-01-1998 23:47:11|\n",
            "|318    |Schindler's List (1993)                                                    |4.466442953020135 |298        |01-01-1998 23:49:40|\n",
            "|272    |Good Will Hunting (1997)                                                   |4.262626262626263 |198        |01-02-1998 04:38:37|\n",
            "|484    |Maltese Falcon, The (1941)                                                 |4.2101449275362315|138        |01-02-1998 05:16:37|\n",
            "|474    |Dr. Strangelove or: How I Learned to Stop Worrying and Love the Bomb (1963)|4.252577319587629 |194        |01-02-1998 07:18:53|\n",
            "|134    |Citizen Kane (1941)                                                        |4.292929292929293 |198        |01-02-1998 08:42:40|\n",
            "|511    |Lawrence of Arabia (1962)                                                  |4.23121387283237  |173        |01-02-1998 08:42:40|\n",
            "|174    |Raiders of the Lost Ark (1981)                                             |4.252380952380952 |420        |01-02-1998 08:43:55|\n",
            "|480    |North by Northwest (1959)                                                  |4.284916201117318 |179        |01-02-1998 08:45:58|\n",
            "|169    |Wrong Trousers, The (1993)                                                 |4.466101694915254 |118        |01-02-1998 08:48:13|\n",
            "|12     |Usual Suspects, The (1995)                                                 |4.385767790262173 |267        |01-02-1998 08:48:50|\n",
            "|178    |12 Angry Men (1957)                                                        |4.344             |125        |01-02-1998 08:49:26|\n",
            "|483    |Casablanca (1942)                                                          |4.45679012345679  |243        |01-02-1998 08:51:08|\n",
            "|427    |To Kill a Mockingbird (1962)                                               |4.292237442922374 |219        |01-02-1998 08:51:30|\n",
            "|408    |Close Shave, A (1995)                                                      |4.491071428571429 |112        |01-02-1998 08:53:09|\n",
            "|357    |One Flew Over the Cuckoo's Nest (1975)                                     |4.291666666666667 |264        |01-02-1998 08:53:09|\n",
            "|479    |Vertigo (1958)                                                             |4.251396648044692 |179        |01-02-1998 08:54:35|\n",
            "|172    |Empire Strikes Back, The (1980)                                            |4.204359673024523 |367        |01-02-1998 09:02:37|\n",
            "|603    |Rear Window (1954)                                                         |4.3875598086124405|209        |01-02-1998 20:59:30|\n",
            "|657    |Manchurian Candidate, The (1962)                                           |4.259541984732825 |131        |01-04-1998 02:27:47|\n",
            "+-------+---------------------------------------------------------------------------+------------------+-----------+-------------------+\n",
            "\n",
            "\n",
            "Top 25 worst average rating Movies ordered by oldest timestamp\n",
            "+-------+--------------------------------------+------------------+-----------+-------------------+\n",
            "|MovieID|Title                                 |AvgRatings        |RatingCount|Time               |\n",
            "+-------+--------------------------------------+------------------+-----------+-------------------+\n",
            "|243    |Jungle2Jungle (1997)                  |2.4393939393939394|132        |01-01-1998 23:15:47|\n",
            "|678    |Volcano (1997)                        |2.808219178082192 |219        |01-01-1998 23:15:47|\n",
            "|264    |Mimic (1997)                          |2.742574257425743 |101        |01-01-1998 23:17:52|\n",
            "|323    |Dante's Peak (1997)                   |2.933333333333333 |240        |01-01-1998 23:18:29|\n",
            "|546    |Broken Arrow (1996)                   |3.031496062992126 |254        |01-01-1998 23:31:22|\n",
            "|240    |Beavis and Butt-head Do America (1996)|2.7884615384615383|156        |01-01-1998 23:31:52|\n",
            "|1047   |Multiplicity (1996)                   |2.8358208955223883|134        |01-01-1998 23:34:39|\n",
            "|411    |Nutty Professor, The (1996)           |2.914110429447853 |163        |01-01-1998 23:34:39|\n",
            "|756    |Father of the Bride Part II (1995)    |2.8984375         |128        |01-01-1998 23:35:30|\n",
            "|252    |Lost World: Jurassic Park, The (1997) |2.9430379746835444|158        |01-01-1998 23:36:47|\n",
            "|926    |Down Periscope (1996)                 |2.702970297029703 |101        |01-01-1998 23:37:11|\n",
            "|476    |First Wives Club, The (1996)          |3.01875           |160        |01-01-1998 23:39:50|\n",
            "|225    |101 Dalmatians (1996)                 |2.908256880733945 |109        |01-01-1998 23:40:39|\n",
            "|289    |Evita (1996)                          |2.9806949806949805|259        |01-02-1998 04:41:04|\n",
            "|122    |Cable Guy, The (1996)                 |2.339622641509434 |106        |01-02-1998 06:51:25|\n",
            "|29     |Batman Forever (1995)                 |2.6666666666666665|114        |01-02-1998 07:30:28|\n",
            "|38     |Net, The (1995)                       |3.0083333333333333|120        |01-02-1998 07:30:28|\n",
            "|554    |Waterworld (1995)                     |2.803921568627451 |102        |01-02-1998 07:33:14|\n",
            "|358    |Spawn (1997)                          |2.6153846153846154|143        |01-02-1998 20:40:38|\n",
            "|259    |George of the Jungle (1997)           |2.685185185185185 |162        |01-02-1998 20:42:53|\n",
            "|235    |Mars Attacks! (1996)                  |2.847926267281106 |217        |01-03-1998 06:24:04|\n",
            "|231    |Batman Returns (1992)                 |2.683098591549296 |142        |01-03-1998 06:35:13|\n",
            "|260    |Event Horizon (1997)                  |2.574803149606299 |127        |01-04-1998 03:50:17|\n",
            "|325    |Crash (1996)                          |2.546875          |128        |01-04-1998 15:43:59|\n",
            "|53     |Natural Born Killers (1994)           |2.953125          |128        |01-04-1998 16:55:19|\n",
            "+-------+--------------------------------------+------------------+-----------+-------------------+\n",
            "\n"
          ]
        }
      ]
    }
  ]
}